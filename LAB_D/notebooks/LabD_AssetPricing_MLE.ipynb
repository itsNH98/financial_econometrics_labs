{
 "cells": [
  {
   "cell_type": "markdown",
   "metadata": {},
   "source": [
    "# Lab D : Amazing Research Project !!!\n",
    "By Simon Van Norden & Nicolas Harvie\n",
    "***"
   ]
  },
  {
   "cell_type": "markdown",
   "metadata": {},
   "source": [
    "## Bridging PCA and Asset Pricing"
   ]
  },
  {
   "cell_type": "markdown",
   "metadata": {},
   "source": [
    "You are aware that researchers use a number of models to explain market returns. However, you also know that the numbers of factors in these models only tend to increase... Therefore, you decide you should try and apply PCA to these factors and try to predict future returns based on lagged values. "
   ]
  },
  {
   "cell_type": "code",
   "execution_count": 1,
   "metadata": {},
   "outputs": [],
   "source": [
    "# Our Imports\n",
    "import pandas as pd \n",
    "import numpy as np \n",
    "import pandas_datareader as pdr\n",
    "import statsmodels.api as sm\n",
    "from scipy.optimize import minimize\n",
    "import math \n",
    "\n",
    "\n",
    "import matplotlib.pyplot as plt\n",
    "import scipy.stats as stats\n",
    "import seaborn as sns \n",
    "from IPython.display import Image\n",
    "\n",
    "plt.style.use(\"ggplot\")\n",
    "plt.rcParams[\"figure.figsize\"] = (12,8)\n",
    "\n",
    "import warnings \n",
    "warnings.filterwarnings(\"ignore\")"
   ]
  },
  {
   "cell_type": "code",
   "execution_count": 2,
   "metadata": {},
   "outputs": [
    {
     "data": {
      "text/html": [
       "<div>\n",
       "<style scoped>\n",
       "    .dataframe tbody tr th:only-of-type {\n",
       "        vertical-align: middle;\n",
       "    }\n",
       "\n",
       "    .dataframe tbody tr th {\n",
       "        vertical-align: top;\n",
       "    }\n",
       "\n",
       "    .dataframe thead th {\n",
       "        text-align: right;\n",
       "    }\n",
       "</style>\n",
       "<table border=\"1\" class=\"dataframe\">\n",
       "  <thead>\n",
       "    <tr style=\"text-align: right;\">\n",
       "      <th></th>\n",
       "      <th>Mkt-RF</th>\n",
       "      <th>MOM</th>\n",
       "      <th>SMB</th>\n",
       "      <th>HML</th>\n",
       "      <th>RMW</th>\n",
       "      <th>CMA</th>\n",
       "    </tr>\n",
       "    <tr>\n",
       "      <th>Date</th>\n",
       "      <th></th>\n",
       "      <th></th>\n",
       "      <th></th>\n",
       "      <th></th>\n",
       "      <th></th>\n",
       "      <th></th>\n",
       "    </tr>\n",
       "  </thead>\n",
       "  <tbody>\n",
       "    <tr>\n",
       "      <th>2010-01</th>\n",
       "      <td>-3.36</td>\n",
       "      <td>-5.40</td>\n",
       "      <td>0.34</td>\n",
       "      <td>0.43</td>\n",
       "      <td>-1.27</td>\n",
       "      <td>0.46</td>\n",
       "    </tr>\n",
       "    <tr>\n",
       "      <th>2010-02</th>\n",
       "      <td>3.40</td>\n",
       "      <td>3.74</td>\n",
       "      <td>1.51</td>\n",
       "      <td>3.23</td>\n",
       "      <td>-0.27</td>\n",
       "      <td>1.43</td>\n",
       "    </tr>\n",
       "    <tr>\n",
       "      <th>2010-03</th>\n",
       "      <td>6.31</td>\n",
       "      <td>3.76</td>\n",
       "      <td>1.85</td>\n",
       "      <td>2.21</td>\n",
       "      <td>-0.65</td>\n",
       "      <td>1.69</td>\n",
       "    </tr>\n",
       "    <tr>\n",
       "      <th>2010-04</th>\n",
       "      <td>2.00</td>\n",
       "      <td>3.16</td>\n",
       "      <td>4.98</td>\n",
       "      <td>2.89</td>\n",
       "      <td>0.69</td>\n",
       "      <td>1.72</td>\n",
       "    </tr>\n",
       "    <tr>\n",
       "      <th>2010-05</th>\n",
       "      <td>-7.89</td>\n",
       "      <td>-0.25</td>\n",
       "      <td>0.04</td>\n",
       "      <td>-2.44</td>\n",
       "      <td>1.30</td>\n",
       "      <td>-0.22</td>\n",
       "    </tr>\n",
       "    <tr>\n",
       "      <th>...</th>\n",
       "      <td>...</td>\n",
       "      <td>...</td>\n",
       "      <td>...</td>\n",
       "      <td>...</td>\n",
       "      <td>...</td>\n",
       "      <td>...</td>\n",
       "    </tr>\n",
       "    <tr>\n",
       "      <th>2020-09</th>\n",
       "      <td>-3.63</td>\n",
       "      <td>3.12</td>\n",
       "      <td>0.01</td>\n",
       "      <td>-2.68</td>\n",
       "      <td>-1.39</td>\n",
       "      <td>-1.89</td>\n",
       "    </tr>\n",
       "    <tr>\n",
       "      <th>2020-10</th>\n",
       "      <td>-2.10</td>\n",
       "      <td>-3.05</td>\n",
       "      <td>4.64</td>\n",
       "      <td>4.22</td>\n",
       "      <td>-0.75</td>\n",
       "      <td>-0.76</td>\n",
       "    </tr>\n",
       "    <tr>\n",
       "      <th>2020-11</th>\n",
       "      <td>12.47</td>\n",
       "      <td>-12.43</td>\n",
       "      <td>7.12</td>\n",
       "      <td>2.13</td>\n",
       "      <td>-2.20</td>\n",
       "      <td>1.37</td>\n",
       "    </tr>\n",
       "    <tr>\n",
       "      <th>2020-12</th>\n",
       "      <td>4.63</td>\n",
       "      <td>-2.32</td>\n",
       "      <td>4.79</td>\n",
       "      <td>-1.50</td>\n",
       "      <td>-1.99</td>\n",
       "      <td>-0.11</td>\n",
       "    </tr>\n",
       "    <tr>\n",
       "      <th>2021-01</th>\n",
       "      <td>-0.03</td>\n",
       "      <td>4.50</td>\n",
       "      <td>6.92</td>\n",
       "      <td>2.97</td>\n",
       "      <td>-3.81</td>\n",
       "      <td>4.90</td>\n",
       "    </tr>\n",
       "  </tbody>\n",
       "</table>\n",
       "<p>133 rows × 6 columns</p>\n",
       "</div>"
      ],
      "text/plain": [
       "         Mkt-RF    MOM   SMB   HML   RMW   CMA\n",
       "Date                                          \n",
       "2010-01   -3.36  -5.40  0.34  0.43 -1.27  0.46\n",
       "2010-02    3.40   3.74  1.51  3.23 -0.27  1.43\n",
       "2010-03    6.31   3.76  1.85  2.21 -0.65  1.69\n",
       "2010-04    2.00   3.16  4.98  2.89  0.69  1.72\n",
       "2010-05   -7.89  -0.25  0.04 -2.44  1.30 -0.22\n",
       "...         ...    ...   ...   ...   ...   ...\n",
       "2020-09   -3.63   3.12  0.01 -2.68 -1.39 -1.89\n",
       "2020-10   -2.10  -3.05  4.64  4.22 -0.75 -0.76\n",
       "2020-11   12.47 -12.43  7.12  2.13 -2.20  1.37\n",
       "2020-12    4.63  -2.32  4.79 -1.50 -1.99 -0.11\n",
       "2021-01   -0.03   4.50  6.92  2.97 -3.81  4.90\n",
       "\n",
       "[133 rows x 6 columns]"
      ]
     },
     "execution_count": 2,
     "metadata": {},
     "output_type": "execute_result"
    }
   ],
   "source": [
    "# Determining our factors\n",
    "factors = pdr.get_data_famafrench('F-F_Research_Data_5_Factors_2x3', start='2010', end='2021')[0].iloc[:,0:5]\n",
    "factors.insert(loc=1, column='MOM', value=pdr.get_data_famafrench('F-F_Momentum_Factor', start='2010', end='2021')[0].iloc[:,0])\n",
    "factors"
   ]
  },
  {
   "cell_type": "code",
   "execution_count": 3,
   "metadata": {},
   "outputs": [
    {
     "data": {
      "text/html": [
       "<div>\n",
       "<style scoped>\n",
       "    .dataframe tbody tr th:only-of-type {\n",
       "        vertical-align: middle;\n",
       "    }\n",
       "\n",
       "    .dataframe tbody tr th {\n",
       "        vertical-align: top;\n",
       "    }\n",
       "\n",
       "    .dataframe thead th {\n",
       "        text-align: right;\n",
       "    }\n",
       "</style>\n",
       "<table border=\"1\" class=\"dataframe\">\n",
       "  <thead>\n",
       "    <tr style=\"text-align: right;\">\n",
       "      <th></th>\n",
       "      <th>Mkt-RF</th>\n",
       "      <th>MOM</th>\n",
       "      <th>SMB</th>\n",
       "      <th>HML</th>\n",
       "      <th>RMW</th>\n",
       "      <th>CMA</th>\n",
       "    </tr>\n",
       "    <tr>\n",
       "      <th>Date</th>\n",
       "      <th></th>\n",
       "      <th></th>\n",
       "      <th></th>\n",
       "      <th></th>\n",
       "      <th></th>\n",
       "      <th></th>\n",
       "    </tr>\n",
       "  </thead>\n",
       "  <tbody>\n",
       "    <tr>\n",
       "      <th>2010-02</th>\n",
       "      <td>-3.36</td>\n",
       "      <td>-5.40</td>\n",
       "      <td>0.34</td>\n",
       "      <td>0.43</td>\n",
       "      <td>-1.27</td>\n",
       "      <td>0.46</td>\n",
       "    </tr>\n",
       "    <tr>\n",
       "      <th>2010-03</th>\n",
       "      <td>3.40</td>\n",
       "      <td>3.74</td>\n",
       "      <td>1.51</td>\n",
       "      <td>3.23</td>\n",
       "      <td>-0.27</td>\n",
       "      <td>1.43</td>\n",
       "    </tr>\n",
       "    <tr>\n",
       "      <th>2010-04</th>\n",
       "      <td>6.31</td>\n",
       "      <td>3.76</td>\n",
       "      <td>1.85</td>\n",
       "      <td>2.21</td>\n",
       "      <td>-0.65</td>\n",
       "      <td>1.69</td>\n",
       "    </tr>\n",
       "    <tr>\n",
       "      <th>2010-05</th>\n",
       "      <td>2.00</td>\n",
       "      <td>3.16</td>\n",
       "      <td>4.98</td>\n",
       "      <td>2.89</td>\n",
       "      <td>0.69</td>\n",
       "      <td>1.72</td>\n",
       "    </tr>\n",
       "    <tr>\n",
       "      <th>2010-06</th>\n",
       "      <td>-7.89</td>\n",
       "      <td>-0.25</td>\n",
       "      <td>0.04</td>\n",
       "      <td>-2.44</td>\n",
       "      <td>1.30</td>\n",
       "      <td>-0.22</td>\n",
       "    </tr>\n",
       "    <tr>\n",
       "      <th>...</th>\n",
       "      <td>...</td>\n",
       "      <td>...</td>\n",
       "      <td>...</td>\n",
       "      <td>...</td>\n",
       "      <td>...</td>\n",
       "      <td>...</td>\n",
       "    </tr>\n",
       "    <tr>\n",
       "      <th>2020-09</th>\n",
       "      <td>7.63</td>\n",
       "      <td>0.55</td>\n",
       "      <td>-0.89</td>\n",
       "      <td>-2.96</td>\n",
       "      <td>4.26</td>\n",
       "      <td>-1.20</td>\n",
       "    </tr>\n",
       "    <tr>\n",
       "      <th>2020-10</th>\n",
       "      <td>-3.63</td>\n",
       "      <td>3.12</td>\n",
       "      <td>0.01</td>\n",
       "      <td>-2.68</td>\n",
       "      <td>-1.39</td>\n",
       "      <td>-1.89</td>\n",
       "    </tr>\n",
       "    <tr>\n",
       "      <th>2020-11</th>\n",
       "      <td>-2.10</td>\n",
       "      <td>-3.05</td>\n",
       "      <td>4.64</td>\n",
       "      <td>4.22</td>\n",
       "      <td>-0.75</td>\n",
       "      <td>-0.76</td>\n",
       "    </tr>\n",
       "    <tr>\n",
       "      <th>2020-12</th>\n",
       "      <td>12.47</td>\n",
       "      <td>-12.43</td>\n",
       "      <td>7.12</td>\n",
       "      <td>2.13</td>\n",
       "      <td>-2.20</td>\n",
       "      <td>1.37</td>\n",
       "    </tr>\n",
       "    <tr>\n",
       "      <th>2021-01</th>\n",
       "      <td>4.63</td>\n",
       "      <td>-2.32</td>\n",
       "      <td>4.79</td>\n",
       "      <td>-1.50</td>\n",
       "      <td>-1.99</td>\n",
       "      <td>-0.11</td>\n",
       "    </tr>\n",
       "  </tbody>\n",
       "</table>\n",
       "<p>132 rows × 6 columns</p>\n",
       "</div>"
      ],
      "text/plain": [
       "         Mkt-RF    MOM   SMB   HML   RMW   CMA\n",
       "Date                                          \n",
       "2010-02   -3.36  -5.40  0.34  0.43 -1.27  0.46\n",
       "2010-03    3.40   3.74  1.51  3.23 -0.27  1.43\n",
       "2010-04    6.31   3.76  1.85  2.21 -0.65  1.69\n",
       "2010-05    2.00   3.16  4.98  2.89  0.69  1.72\n",
       "2010-06   -7.89  -0.25  0.04 -2.44  1.30 -0.22\n",
       "...         ...    ...   ...   ...   ...   ...\n",
       "2020-09    7.63   0.55 -0.89 -2.96  4.26 -1.20\n",
       "2020-10   -3.63   3.12  0.01 -2.68 -1.39 -1.89\n",
       "2020-11   -2.10  -3.05  4.64  4.22 -0.75 -0.76\n",
       "2020-12   12.47 -12.43  7.12  2.13 -2.20  1.37\n",
       "2021-01    4.63  -2.32  4.79 -1.50 -1.99 -0.11\n",
       "\n",
       "[132 rows x 6 columns]"
      ]
     },
     "execution_count": 3,
     "metadata": {},
     "output_type": "execute_result"
    }
   ],
   "source": [
    "# Producing Our lagged factors\n",
    "lagged_factors = factors.shift(1).dropna()\n",
    "lagged_factors"
   ]
  },
  {
   "cell_type": "code",
   "execution_count": 4,
   "metadata": {},
   "outputs": [
    {
     "data": {
      "text/html": [
       "<img src=\"../slide_images/Factors_Models.png\" width=\"700\" height=\"500\"/>"
      ],
      "text/plain": [
       "<IPython.core.display.Image object>"
      ]
     },
     "execution_count": 4,
     "metadata": {},
     "output_type": "execute_result"
    }
   ],
   "source": [
    "Image(url=\"../slide_images/Factors_Models.png\", width=700, height=500)"
   ]
  },
  {
   "cell_type": "markdown",
   "metadata": {},
   "source": [
    "Ouch ! Too many factors and we don't even have our dependent variable yet..."
   ]
  },
  {
   "cell_type": "code",
   "execution_count": 5,
   "metadata": {},
   "outputs": [
    {
     "data": {
      "text/html": [
       "<img src=\"../slide_images/PCA_Review.png\" width=\"700\" height=\"500\"/>"
      ],
      "text/plain": [
       "<IPython.core.display.Image object>"
      ]
     },
     "execution_count": 5,
     "metadata": {},
     "output_type": "execute_result"
    }
   ],
   "source": [
    "# Remember the PCA objective ! \n",
    "Image(url=\"../slide_images/PCA_Review.png\", width=700, height=500)"
   ]
  },
  {
   "cell_type": "code",
   "execution_count": 6,
   "metadata": {},
   "outputs": [
    {
     "data": {
      "text/html": [
       "<div>\n",
       "<style scoped>\n",
       "    .dataframe tbody tr th:only-of-type {\n",
       "        vertical-align: middle;\n",
       "    }\n",
       "\n",
       "    .dataframe tbody tr th {\n",
       "        vertical-align: top;\n",
       "    }\n",
       "\n",
       "    .dataframe thead th {\n",
       "        text-align: right;\n",
       "    }\n",
       "</style>\n",
       "<table border=\"1\" class=\"dataframe\">\n",
       "  <thead>\n",
       "    <tr style=\"text-align: right;\">\n",
       "      <th></th>\n",
       "      <th>Mkt-RF</th>\n",
       "      <th>MOM</th>\n",
       "      <th>SMB</th>\n",
       "      <th>HML</th>\n",
       "      <th>RMW</th>\n",
       "      <th>CMA</th>\n",
       "    </tr>\n",
       "  </thead>\n",
       "  <tbody>\n",
       "    <tr>\n",
       "      <th>Mkt-RF</th>\n",
       "      <td>18.186998</td>\n",
       "      <td>-4.579644</td>\n",
       "      <td>4.864840</td>\n",
       "      <td>2.621418</td>\n",
       "      <td>-0.943140</td>\n",
       "      <td>-0.269540</td>\n",
       "    </tr>\n",
       "    <tr>\n",
       "      <th>MOM</th>\n",
       "      <td>-4.579644</td>\n",
       "      <td>11.761142</td>\n",
       "      <td>-2.737962</td>\n",
       "      <td>-4.065064</td>\n",
       "      <td>0.376073</td>\n",
       "      <td>-0.733165</td>\n",
       "    </tr>\n",
       "    <tr>\n",
       "      <th>SMB</th>\n",
       "      <td>4.864840</td>\n",
       "      <td>-2.737962</td>\n",
       "      <td>6.420950</td>\n",
       "      <td>2.314298</td>\n",
       "      <td>-1.426555</td>\n",
       "      <td>0.229982</td>\n",
       "    </tr>\n",
       "    <tr>\n",
       "      <th>HML</th>\n",
       "      <td>2.621418</td>\n",
       "      <td>-4.065064</td>\n",
       "      <td>2.314298</td>\n",
       "      <td>7.047567</td>\n",
       "      <td>-0.303612</td>\n",
       "      <td>2.061402</td>\n",
       "    </tr>\n",
       "    <tr>\n",
       "      <th>RMW</th>\n",
       "      <td>-0.943140</td>\n",
       "      <td>0.376073</td>\n",
       "      <td>-1.426555</td>\n",
       "      <td>-0.303612</td>\n",
       "      <td>2.362323</td>\n",
       "      <td>0.044646</td>\n",
       "    </tr>\n",
       "    <tr>\n",
       "      <th>CMA</th>\n",
       "      <td>-0.269540</td>\n",
       "      <td>-0.733165</td>\n",
       "      <td>0.229982</td>\n",
       "      <td>2.061402</td>\n",
       "      <td>0.044646</td>\n",
       "      <td>2.178555</td>\n",
       "    </tr>\n",
       "  </tbody>\n",
       "</table>\n",
       "</div>"
      ],
      "text/plain": [
       "           Mkt-RF        MOM       SMB       HML       RMW       CMA\n",
       "Mkt-RF  18.186998  -4.579644  4.864840  2.621418 -0.943140 -0.269540\n",
       "MOM     -4.579644  11.761142 -2.737962 -4.065064  0.376073 -0.733165\n",
       "SMB      4.864840  -2.737962  6.420950  2.314298 -1.426555  0.229982\n",
       "HML      2.621418  -4.065064  2.314298  7.047567 -0.303612  2.061402\n",
       "RMW     -0.943140   0.376073 -1.426555 -0.303612  2.362323  0.044646\n",
       "CMA     -0.269540  -0.733165  0.229982  2.061402  0.044646  2.178555"
      ]
     },
     "execution_count": 6,
     "metadata": {},
     "output_type": "execute_result"
    }
   ],
   "source": [
    "# Covariant Matrix to do PCA\n",
    "lagged_factors = lagged_factors.cov()\n",
    "lagged_factors"
   ]
  },
  {
   "cell_type": "code",
   "execution_count": 7,
   "metadata": {},
   "outputs": [],
   "source": [
    "eval, evec = np.linalg.eigh(lagged_factors)"
   ]
  },
  {
   "cell_type": "code",
   "execution_count": 8,
   "metadata": {},
   "outputs": [
    {
     "data": {
      "text/plain": [
       "array([23.99911855, 10.77335684,  5.59113325,  4.45925666,  1.84658114,\n",
       "        1.28808872])"
      ]
     },
     "execution_count": 8,
     "metadata": {},
     "output_type": "execute_result"
    }
   ],
   "source": [
    "# My Eigenvalues\n",
    "ordered_eval = eval[::-1]\n",
    "ordered_eval"
   ]
  },
  {
   "cell_type": "code",
   "execution_count": 9,
   "metadata": {},
   "outputs": [
    {
     "data": {
      "text/plain": [
       "[<matplotlib.lines.Line2D at 0x7fea761a18e0>]"
      ]
     },
     "execution_count": 9,
     "metadata": {},
     "output_type": "execute_result"
    },
    {
     "data": {
      "image/png": "[encoded data removed]",
      "text/plain": [
       "<Figure size 432x288 with 1 Axes>"
      ]
     },
     "metadata": {
      "needs_background": "light"
     },
     "output_type": "display_data"
    }
   ],
   "source": [
    "plt.plot((ordered_eval/ordered_eval.sum()).cumsum())"
   ]
  },
  {
   "cell_type": "code",
   "execution_count": 10,
   "metadata": {},
   "outputs": [
    {
     "data": {
      "text/html": [
       "<div>\n",
       "<style scoped>\n",
       "    .dataframe tbody tr th:only-of-type {\n",
       "        vertical-align: middle;\n",
       "    }\n",
       "\n",
       "    .dataframe tbody tr th {\n",
       "        vertical-align: top;\n",
       "    }\n",
       "\n",
       "    .dataframe thead th {\n",
       "        text-align: right;\n",
       "    }\n",
       "</style>\n",
       "<table border=\"1\" class=\"dataframe\">\n",
       "  <thead>\n",
       "    <tr style=\"text-align: right;\">\n",
       "      <th></th>\n",
       "      <th>0</th>\n",
       "      <th>1</th>\n",
       "      <th>2</th>\n",
       "      <th>3</th>\n",
       "      <th>4</th>\n",
       "      <th>5</th>\n",
       "    </tr>\n",
       "  </thead>\n",
       "  <tbody>\n",
       "    <tr>\n",
       "      <th>0</th>\n",
       "      <td>-0.903528</td>\n",
       "      <td>0.057026</td>\n",
       "      <td>-0.266061</td>\n",
       "      <td>-0.275113</td>\n",
       "      <td>-0.180656</td>\n",
       "      <td>-0.035683</td>\n",
       "    </tr>\n",
       "    <tr>\n",
       "      <th>1</th>\n",
       "      <td>-0.004765</td>\n",
       "      <td>-0.921061</td>\n",
       "      <td>-0.347126</td>\n",
       "      <td>0.162347</td>\n",
       "      <td>-0.016173</td>\n",
       "      <td>0.067157</td>\n",
       "    </tr>\n",
       "    <tr>\n",
       "      <th>2</th>\n",
       "      <td>0.415140</td>\n",
       "      <td>0.050618</td>\n",
       "      <td>-0.451023</td>\n",
       "      <td>-0.592794</td>\n",
       "      <td>-0.437997</td>\n",
       "      <td>-0.280050</td>\n",
       "    </tr>\n",
       "    <tr>\n",
       "      <th>3</th>\n",
       "      <td>-0.077644</td>\n",
       "      <td>-0.378405</td>\n",
       "      <td>0.723518</td>\n",
       "      <td>-0.468236</td>\n",
       "      <td>-0.018802</td>\n",
       "      <td>-0.328184</td>\n",
       "    </tr>\n",
       "    <tr>\n",
       "      <th>4</th>\n",
       "      <td>0.060071</td>\n",
       "      <td>-0.023463</td>\n",
       "      <td>-0.143734</td>\n",
       "      <td>-0.562186</td>\n",
       "      <td>0.669164</td>\n",
       "      <td>0.459726</td>\n",
       "    </tr>\n",
       "    <tr>\n",
       "      <th>5</th>\n",
       "      <td>-0.040444</td>\n",
       "      <td>0.045741</td>\n",
       "      <td>-0.247297</td>\n",
       "      <td>0.106083</td>\n",
       "      <td>0.571949</td>\n",
       "      <td>-0.772487</td>\n",
       "    </tr>\n",
       "  </tbody>\n",
       "</table>\n",
       "</div>"
      ],
      "text/plain": [
       "          0         1         2         3         4         5\n",
       "0 -0.903528  0.057026 -0.266061 -0.275113 -0.180656 -0.035683\n",
       "1 -0.004765 -0.921061 -0.347126  0.162347 -0.016173  0.067157\n",
       "2  0.415140  0.050618 -0.451023 -0.592794 -0.437997 -0.280050\n",
       "3 -0.077644 -0.378405  0.723518 -0.468236 -0.018802 -0.328184\n",
       "4  0.060071 -0.023463 -0.143734 -0.562186  0.669164  0.459726\n",
       "5 -0.040444  0.045741 -0.247297  0.106083  0.571949 -0.772487"
      ]
     },
     "execution_count": 10,
     "metadata": {},
     "output_type": "execute_result"
    }
   ],
   "source": [
    "# My EigenVectors\n",
    "ordered_evec = evec[::-1]\n",
    "pd.DataFrame(ordered_evec)"
   ]
  },
  {
   "cell_type": "code",
   "execution_count": 11,
   "metadata": {},
   "outputs": [
    {
     "data": {
      "text/html": [
       "<div>\n",
       "<style scoped>\n",
       "    .dataframe tbody tr th:only-of-type {\n",
       "        vertical-align: middle;\n",
       "    }\n",
       "\n",
       "    .dataframe tbody tr th {\n",
       "        vertical-align: top;\n",
       "    }\n",
       "\n",
       "    .dataframe thead th {\n",
       "        text-align: right;\n",
       "    }\n",
       "</style>\n",
       "<table border=\"1\" class=\"dataframe\">\n",
       "  <thead>\n",
       "    <tr style=\"text-align: right;\">\n",
       "      <th></th>\n",
       "      <th>PC1</th>\n",
       "    </tr>\n",
       "    <tr>\n",
       "      <th>Date</th>\n",
       "      <th></th>\n",
       "    </tr>\n",
       "  </thead>\n",
       "  <tbody>\n",
       "    <tr>\n",
       "      <th>2010-01</th>\n",
       "      <td>-0.220668</td>\n",
       "    </tr>\n",
       "    <tr>\n",
       "      <th>2010-02</th>\n",
       "      <td>-2.376361</td>\n",
       "    </tr>\n",
       "    <tr>\n",
       "      <th>2010-03</th>\n",
       "      <td>-4.475833</td>\n",
       "    </tr>\n",
       "    <tr>\n",
       "      <th>2010-04</th>\n",
       "      <td>-2.550977</td>\n",
       "    </tr>\n",
       "    <tr>\n",
       "      <th>2010-05</th>\n",
       "      <td>6.745342</td>\n",
       "    </tr>\n",
       "    <tr>\n",
       "      <th>...</th>\n",
       "      <td>...</td>\n",
       "    </tr>\n",
       "    <tr>\n",
       "      <th>2020-09</th>\n",
       "      <td>4.959817</td>\n",
       "    </tr>\n",
       "    <tr>\n",
       "      <th>2020-10</th>\n",
       "      <td>-2.507773</td>\n",
       "    </tr>\n",
       "    <tr>\n",
       "      <th>2020-11</th>\n",
       "      <td>-18.477109</td>\n",
       "    </tr>\n",
       "    <tr>\n",
       "      <th>2020-12</th>\n",
       "      <td>-5.924820</td>\n",
       "    </tr>\n",
       "    <tr>\n",
       "      <th>2021-01</th>\n",
       "      <td>-1.441552</td>\n",
       "    </tr>\n",
       "  </tbody>\n",
       "</table>\n",
       "<p>133 rows × 1 columns</p>\n",
       "</div>"
      ],
      "text/plain": [
       "               PC1\n",
       "Date              \n",
       "2010-01  -0.220668\n",
       "2010-02  -2.376361\n",
       "2010-03  -4.475833\n",
       "2010-04  -2.550977\n",
       "2010-05   6.745342\n",
       "...            ...\n",
       "2020-09   4.959817\n",
       "2020-10  -2.507773\n",
       "2020-11 -18.477109\n",
       "2020-12  -5.924820\n",
       "2021-01  -1.441552\n",
       "\n",
       "[133 rows x 1 columns]"
      ]
     },
     "execution_count": 11,
     "metadata": {},
     "output_type": "execute_result"
    }
   ],
   "source": [
    "# My Principal Components\n",
    "# We choose only one in this context \n",
    "PC_df = factors @ evec\n",
    "ordered_PC_df = PC_df.iloc[:, ::-1]\n",
    "My_PC = pd.DataFrame(ordered_PC_df.iloc[:, 0]).rename(columns={5: 'PC1'})\n",
    "My_PC"
   ]
  },
  {
   "cell_type": "code",
   "execution_count": 12,
   "metadata": {},
   "outputs": [
    {
     "data": {
      "text/plain": [
       "PC1    23.821786\n",
       "dtype: float64"
      ]
     },
     "execution_count": 12,
     "metadata": {},
     "output_type": "execute_result"
    }
   ],
   "source": [
    "# A quick verification \n",
    "My_PC.var()"
   ]
  },
  {
   "cell_type": "code",
   "execution_count": 13,
   "metadata": {},
   "outputs": [
    {
     "data": {
      "text/plain": [
       "Date\n",
       "2010-01    -7.62\n",
       "2010-02     4.36\n",
       "2010-03     6.88\n",
       "2010-04     2.49\n",
       "2010-05    -7.27\n",
       "           ...  \n",
       "2020-09    -4.82\n",
       "2020-10    -2.02\n",
       "2020-11    11.17\n",
       "2020-12     4.99\n",
       "2021-01     0.17\n",
       "Freq: M, Name: HiTec, Length: 133, dtype: float64"
      ]
     },
     "execution_count": 13,
     "metadata": {},
     "output_type": "execute_result"
    }
   ],
   "source": [
    "# Setting up our Regression\n",
    "# We are Interested in the excess returns of the Technology sector ($$) \n",
    "tech_returns = pdr.get_data_famafrench('5_Industry_Portfolios', start='2010', end='2021')[0]['HiTec']\n",
    "tech_returns.subtract(pdr.get_data_famafrench('F-F_Research_Data_5_Factors_2x3', start='2010', end='2021')[0]['RF'])\n",
    "tech_returns"
   ]
  },
  {
   "cell_type": "code",
   "execution_count": 14,
   "metadata": {},
   "outputs": [
    {
     "data": {
      "text/html": [
       "<div>\n",
       "<style scoped>\n",
       "    .dataframe tbody tr th:only-of-type {\n",
       "        vertical-align: middle;\n",
       "    }\n",
       "\n",
       "    .dataframe tbody tr th {\n",
       "        vertical-align: top;\n",
       "    }\n",
       "\n",
       "    .dataframe thead th {\n",
       "        text-align: right;\n",
       "    }\n",
       "</style>\n",
       "<table border=\"1\" class=\"dataframe\">\n",
       "  <thead>\n",
       "    <tr style=\"text-align: right;\">\n",
       "      <th></th>\n",
       "      <th>HiTec</th>\n",
       "      <th>PC1</th>\n",
       "    </tr>\n",
       "    <tr>\n",
       "      <th>Date</th>\n",
       "      <th></th>\n",
       "      <th></th>\n",
       "    </tr>\n",
       "  </thead>\n",
       "  <tbody>\n",
       "    <tr>\n",
       "      <th>2010-01</th>\n",
       "      <td>-7.62</td>\n",
       "      <td>-0.220668</td>\n",
       "    </tr>\n",
       "    <tr>\n",
       "      <th>2010-02</th>\n",
       "      <td>4.36</td>\n",
       "      <td>-2.376361</td>\n",
       "    </tr>\n",
       "    <tr>\n",
       "      <th>2010-03</th>\n",
       "      <td>6.88</td>\n",
       "      <td>-4.475833</td>\n",
       "    </tr>\n",
       "    <tr>\n",
       "      <th>2010-04</th>\n",
       "      <td>2.49</td>\n",
       "      <td>-2.550977</td>\n",
       "    </tr>\n",
       "    <tr>\n",
       "      <th>2010-05</th>\n",
       "      <td>-7.27</td>\n",
       "      <td>6.745342</td>\n",
       "    </tr>\n",
       "    <tr>\n",
       "      <th>...</th>\n",
       "      <td>...</td>\n",
       "      <td>...</td>\n",
       "    </tr>\n",
       "    <tr>\n",
       "      <th>2020-09</th>\n",
       "      <td>-4.82</td>\n",
       "      <td>4.959817</td>\n",
       "    </tr>\n",
       "    <tr>\n",
       "      <th>2020-10</th>\n",
       "      <td>-2.02</td>\n",
       "      <td>-2.507773</td>\n",
       "    </tr>\n",
       "    <tr>\n",
       "      <th>2020-11</th>\n",
       "      <td>11.17</td>\n",
       "      <td>-18.477109</td>\n",
       "    </tr>\n",
       "    <tr>\n",
       "      <th>2020-12</th>\n",
       "      <td>4.99</td>\n",
       "      <td>-5.924820</td>\n",
       "    </tr>\n",
       "    <tr>\n",
       "      <th>2021-01</th>\n",
       "      <td>0.17</td>\n",
       "      <td>-1.441552</td>\n",
       "    </tr>\n",
       "  </tbody>\n",
       "</table>\n",
       "<p>133 rows × 2 columns</p>\n",
       "</div>"
      ],
      "text/plain": [
       "         HiTec        PC1\n",
       "Date                     \n",
       "2010-01  -7.62  -0.220668\n",
       "2010-02   4.36  -2.376361\n",
       "2010-03   6.88  -4.475833\n",
       "2010-04   2.49  -2.550977\n",
       "2010-05  -7.27   6.745342\n",
       "...        ...        ...\n",
       "2020-09  -4.82   4.959817\n",
       "2020-10  -2.02  -2.507773\n",
       "2020-11  11.17 -18.477109\n",
       "2020-12   4.99  -5.924820\n",
       "2021-01   0.17  -1.441552\n",
       "\n",
       "[133 rows x 2 columns]"
      ]
     },
     "execution_count": 14,
     "metadata": {},
     "output_type": "execute_result"
    }
   ],
   "source": [
    "# Setting up our Regression \n",
    "reg_df = pd.merge(tech_returns, My_PC, left_index=True, right_index=True)\n",
    "reg_df"
   ]
  },
  {
   "cell_type": "code",
   "execution_count": 15,
   "metadata": {},
   "outputs": [],
   "source": [
    "res = sm.OLS(reg_df.iloc[:, 0], sm.add_constant(reg_df.iloc[:, 1:]), missing = 'drop', hasconst=True).fit()"
   ]
  },
  {
   "cell_type": "code",
   "execution_count": 16,
   "metadata": {},
   "outputs": [
    {
     "data": {
      "text/html": [
       "<table class=\"simpletable\">\n",
       "<caption>OLS Regression Results</caption>\n",
       "<tr>\n",
       "  <th>Dep. Variable:</th>          <td>HiTec</td>      <th>  R-squared:         </th> <td>   0.593</td>\n",
       "</tr>\n",
       "<tr>\n",
       "  <th>Model:</th>                   <td>OLS</td>       <th>  Adj. R-squared:    </th> <td>   0.590</td>\n",
       "</tr>\n",
       "<tr>\n",
       "  <th>Method:</th>             <td>Least Squares</td>  <th>  F-statistic:       </th> <td>   190.6</td>\n",
       "</tr>\n",
       "<tr>\n",
       "  <th>Date:</th>             <td>Wed, 26 Jul 2023</td> <th>  Prob (F-statistic):</th> <td>2.56e-27</td>\n",
       "</tr>\n",
       "<tr>\n",
       "  <th>Time:</th>                 <td>11:25:10</td>     <th>  Log-Likelihood:    </th> <td> -330.78</td>\n",
       "</tr>\n",
       "<tr>\n",
       "  <th>No. Observations:</th>      <td>   133</td>      <th>  AIC:               </th> <td>   665.6</td>\n",
       "</tr>\n",
       "<tr>\n",
       "  <th>Df Residuals:</th>          <td>   131</td>      <th>  BIC:               </th> <td>   671.3</td>\n",
       "</tr>\n",
       "<tr>\n",
       "  <th>Df Model:</th>              <td>     1</td>      <th>                     </th>     <td> </td>   \n",
       "</tr>\n",
       "<tr>\n",
       "  <th>Covariance Type:</th>      <td>nonrobust</td>    <th>                     </th>     <td> </td>   \n",
       "</tr>\n",
       "</table>\n",
       "<table class=\"simpletable\">\n",
       "<tr>\n",
       "    <td></td>       <th>coef</th>     <th>std err</th>      <th>t</th>      <th>P>|t|</th>  <th>[0.025</th>    <th>0.975]</th>  \n",
       "</tr>\n",
       "<tr>\n",
       "  <th>const</th> <td>    1.0294</td> <td>    0.257</td> <td>    4.010</td> <td> 0.000</td> <td>    0.522</td> <td>    1.537</td>\n",
       "</tr>\n",
       "<tr>\n",
       "  <th>PC1</th>   <td>   -0.7219</td> <td>    0.052</td> <td>  -13.805</td> <td> 0.000</td> <td>   -0.825</td> <td>   -0.618</td>\n",
       "</tr>\n",
       "</table>\n",
       "<table class=\"simpletable\">\n",
       "<tr>\n",
       "  <th>Omnibus:</th>       <td> 1.185</td> <th>  Durbin-Watson:     </th> <td>   2.019</td>\n",
       "</tr>\n",
       "<tr>\n",
       "  <th>Prob(Omnibus):</th> <td> 0.553</td> <th>  Jarque-Bera (JB):  </th> <td>   0.858</td>\n",
       "</tr>\n",
       "<tr>\n",
       "  <th>Skew:</th>          <td>-0.186</td> <th>  Prob(JB):          </th> <td>   0.651</td>\n",
       "</tr>\n",
       "<tr>\n",
       "  <th>Kurtosis:</th>      <td> 3.131</td> <th>  Cond. No.          </th> <td>    4.96</td>\n",
       "</tr>\n",
       "</table><br/><br/>Notes:<br/>[1] Standard Errors assume that the covariance matrix of the errors is correctly specified."
      ],
      "text/plain": [
       "<class 'statsmodels.iolib.summary.Summary'>\n",
       "\"\"\"\n",
       "                            OLS Regression Results                            \n",
       "==============================================================================\n",
       "Dep. Variable:                  HiTec   R-squared:                       0.593\n",
       "Model:                            OLS   Adj. R-squared:                  0.590\n",
       "Method:                 Least Squares   F-statistic:                     190.6\n",
       "Date:                Wed, 26 Jul 2023   Prob (F-statistic):           2.56e-27\n",
       "Time:                        11:25:10   Log-Likelihood:                -330.78\n",
       "No. Observations:                 133   AIC:                             665.6\n",
       "Df Residuals:                     131   BIC:                             671.3\n",
       "Df Model:                           1                                         \n",
       "Covariance Type:            nonrobust                                         \n",
       "==============================================================================\n",
       "                 coef    std err          t      P>|t|      [0.025      0.975]\n",
       "------------------------------------------------------------------------------\n",
       "const          1.0294      0.257      4.010      0.000       0.522       1.537\n",
       "PC1           -0.7219      0.052    -13.805      0.000      -0.825      -0.618\n",
       "==============================================================================\n",
       "Omnibus:                        1.185   Durbin-Watson:                   2.019\n",
       "Prob(Omnibus):                  0.553   Jarque-Bera (JB):                0.858\n",
       "Skew:                          -0.186   Prob(JB):                        0.651\n",
       "Kurtosis:                       3.131   Cond. No.                         4.96\n",
       "==============================================================================\n",
       "\n",
       "Notes:\n",
       "[1] Standard Errors assume that the covariance matrix of the errors is correctly specified.\n",
       "\"\"\""
      ]
     },
     "execution_count": 16,
     "metadata": {},
     "output_type": "execute_result"
    }
   ],
   "source": [
    "res.summary()"
   ]
  },
  {
   "cell_type": "markdown",
   "metadata": {},
   "source": [
    "### If we had more time..."
   ]
  },
  {
   "cell_type": "code",
   "execution_count": 17,
   "metadata": {},
   "outputs": [
    {
     "data": {
      "text/html": [
       "<img src=\"../slide_images/AP_Tests1.png\" width=\"700\" height=\"500\"/>"
      ],
      "text/plain": [
       "<IPython.core.display.Image object>"
      ]
     },
     "execution_count": 17,
     "metadata": {},
     "output_type": "execute_result"
    }
   ],
   "source": [
    "# Add some controls\n",
    "Image(url=\"../slide_images/AP_Tests1.png\", width=700, height=500)"
   ]
  },
  {
   "cell_type": "code",
   "execution_count": 18,
   "metadata": {},
   "outputs": [
    {
     "data": {
      "text/html": [
       "<img src=\"../slide_images/AP_Tests2.png\" width=\"700\" height=\"500\"/>"
      ],
      "text/plain": [
       "<IPython.core.display.Image object>"
      ]
     },
     "execution_count": 18,
     "metadata": {},
     "output_type": "execute_result"
    }
   ],
   "source": [
    "# Find some Alpha\n",
    "Image(url=\"../slide_images/AP_Tests2.png\", width=700, height=500)"
   ]
  },
  {
   "cell_type": "markdown",
   "metadata": {},
   "source": [
    "## Making Sense out of Maximum Likelihood Estimation \n",
    "\n",
    "Reference: https://analyticsindiamag.com/maximum-likelihood-estimation-python-guide/\n",
    "\n",
    "You have heard that it is possible to obtain the same estimators for Beta using Maximum Likelihood Estimation given that the regression residuals follow a defined distribution. You decide to try it out with the prior regression."
   ]
  },
  {
   "cell_type": "code",
   "execution_count": 19,
   "metadata": {},
   "outputs": [
    {
     "data": {
      "text/html": [
       "<img src=\"../slide_images/MLE_Slides0.png\" width=\"700\" height=\"500\"/>"
      ],
      "text/plain": [
       "<IPython.core.display.Image object>"
      ]
     },
     "execution_count": 19,
     "metadata": {},
     "output_type": "execute_result"
    }
   ],
   "source": [
    "# Introduction\n",
    "Image(url=\"../slide_images/MLE_Slides0.png\", width=700, height=500)"
   ]
  },
  {
   "cell_type": "code",
   "execution_count": 20,
   "metadata": {},
   "outputs": [
    {
     "data": {
      "text/html": [
       "<img src=\"../slide_images/MLE_Slides1.png\" width=\"700\" height=\"500\"/>"
      ],
      "text/plain": [
       "<IPython.core.display.Image object>"
      ]
     },
     "execution_count": 20,
     "metadata": {},
     "output_type": "execute_result"
    }
   ],
   "source": [
    "# A prior example \n",
    "Image(url=\"../slide_images/MLE_Slides1.png\", width=700, height=500)"
   ]
  },
  {
   "cell_type": "code",
   "execution_count": 21,
   "metadata": {},
   "outputs": [
    {
     "data": {
      "text/html": [
       "<img src=\"../slide_images/MLE_CAPM1.png\" width=\"600\" height=\"500\"/>"
      ],
      "text/plain": [
       "<IPython.core.display.Image object>"
      ]
     },
     "execution_count": 21,
     "metadata": {},
     "output_type": "execute_result"
    }
   ],
   "source": [
    "# A true example \n",
    "Image(url=\"../slide_images/MLE_CAPM1.png\", width=600, height=500)"
   ]
  },
  {
   "cell_type": "code",
   "execution_count": 22,
   "metadata": {},
   "outputs": [
    {
     "data": {
      "text/html": [
       "<img src=\"../slide_images/Normal.png\" width=\"400\" height=\"300\"/>"
      ],
      "text/plain": [
       "<IPython.core.display.Image object>"
      ]
     },
     "execution_count": 22,
     "metadata": {},
     "output_type": "execute_result"
    }
   ],
   "source": [
    "# Where does this equation come from ? \n",
    "Image(url=\"../slide_images/Normal.png\", width=400, height=300)"
   ]
  },
  {
   "cell_type": "code",
   "execution_count": 23,
   "metadata": {},
   "outputs": [
    {
     "data": {
      "text/html": [
       "<img src=\"../slide_images/MLE_CAPM2.png\" width=\"600\" height=\"500\"/>"
      ],
      "text/plain": [
       "<IPython.core.display.Image object>"
      ]
     },
     "execution_count": 23,
     "metadata": {},
     "output_type": "execute_result"
    }
   ],
   "source": [
    "# CAPM Example Followed\n",
    "Image(url=\"../slide_images/MLE_CAPM2.png\", width=600, height=500)"
   ]
  },
  {
   "cell_type": "code",
   "execution_count": 24,
   "metadata": {},
   "outputs": [],
   "source": [
    "def MLE_Norm(parameters):\n",
    "   # extract parameters\n",
    "   const, beta, std_dev = parameters\n",
    "   # predict the output\n",
    "   resid = reg_df.iloc[:, 0] - const - beta*reg_df.iloc[:, 1]\n",
    "   # Calculate the log-likelihood for normal distribution\n",
    "   LL = np.sum(stats.norm.logpdf(resid, scale=std_dev)) # This is of interest\n",
    "   # Calculate the negative log-likelihood\n",
    "   neg_LL = -1*LL\n",
    "   return neg_LL "
   ]
  },
  {
   "cell_type": "code",
   "execution_count": 25,
   "metadata": {},
   "outputs": [
    {
     "data": {
      "text/plain": [
       "array([ 1.02941682, -0.72185241,  2.91003722])"
      ]
     },
     "execution_count": 25,
     "metadata": {},
     "output_type": "execute_result"
    }
   ],
   "source": [
    "mle_model = minimize(MLE_Norm, np.array([2,2,2]), method='L-BFGS-B')\n",
    "mle_model.x"
   ]
  },
  {
   "cell_type": "code",
   "execution_count": 26,
   "metadata": {},
   "outputs": [
    {
     "data": {
      "text/plain": [
       "2.932161287263204"
      ]
     },
     "execution_count": 26,
     "metadata": {},
     "output_type": "execute_result"
    }
   ],
   "source": [
    "# How cool !\n",
    "standard_dev = np.sqrt(res.mse_resid)\n",
    "standard_dev"
   ]
  },
  {
   "cell_type": "code",
   "execution_count": 27,
   "metadata": {},
   "outputs": [
    {
     "data": {
      "text/html": [
       "<table class=\"simpletable\">\n",
       "<caption>OLS Regression Results</caption>\n",
       "<tr>\n",
       "  <th>Dep. Variable:</th>          <td>HiTec</td>      <th>  R-squared:         </th> <td>   0.593</td>\n",
       "</tr>\n",
       "<tr>\n",
       "  <th>Model:</th>                   <td>OLS</td>       <th>  Adj. R-squared:    </th> <td>   0.590</td>\n",
       "</tr>\n",
       "<tr>\n",
       "  <th>Method:</th>             <td>Least Squares</td>  <th>  F-statistic:       </th> <td>   190.6</td>\n",
       "</tr>\n",
       "<tr>\n",
       "  <th>Date:</th>             <td>Wed, 26 Jul 2023</td> <th>  Prob (F-statistic):</th> <td>2.56e-27</td>\n",
       "</tr>\n",
       "<tr>\n",
       "  <th>Time:</th>                 <td>11:25:10</td>     <th>  Log-Likelihood:    </th> <td> -330.78</td>\n",
       "</tr>\n",
       "<tr>\n",
       "  <th>No. Observations:</th>      <td>   133</td>      <th>  AIC:               </th> <td>   665.6</td>\n",
       "</tr>\n",
       "<tr>\n",
       "  <th>Df Residuals:</th>          <td>   131</td>      <th>  BIC:               </th> <td>   671.3</td>\n",
       "</tr>\n",
       "<tr>\n",
       "  <th>Df Model:</th>              <td>     1</td>      <th>                     </th>     <td> </td>   \n",
       "</tr>\n",
       "<tr>\n",
       "  <th>Covariance Type:</th>      <td>nonrobust</td>    <th>                     </th>     <td> </td>   \n",
       "</tr>\n",
       "</table>\n",
       "<table class=\"simpletable\">\n",
       "<tr>\n",
       "    <td></td>       <th>coef</th>     <th>std err</th>      <th>t</th>      <th>P>|t|</th>  <th>[0.025</th>    <th>0.975]</th>  \n",
       "</tr>\n",
       "<tr>\n",
       "  <th>const</th> <td>    1.0294</td> <td>    0.257</td> <td>    4.010</td> <td> 0.000</td> <td>    0.522</td> <td>    1.537</td>\n",
       "</tr>\n",
       "<tr>\n",
       "  <th>PC1</th>   <td>   -0.7219</td> <td>    0.052</td> <td>  -13.805</td> <td> 0.000</td> <td>   -0.825</td> <td>   -0.618</td>\n",
       "</tr>\n",
       "</table>\n",
       "<table class=\"simpletable\">\n",
       "<tr>\n",
       "  <th>Omnibus:</th>       <td> 1.185</td> <th>  Durbin-Watson:     </th> <td>   2.019</td>\n",
       "</tr>\n",
       "<tr>\n",
       "  <th>Prob(Omnibus):</th> <td> 0.553</td> <th>  Jarque-Bera (JB):  </th> <td>   0.858</td>\n",
       "</tr>\n",
       "<tr>\n",
       "  <th>Skew:</th>          <td>-0.186</td> <th>  Prob(JB):          </th> <td>   0.651</td>\n",
       "</tr>\n",
       "<tr>\n",
       "  <th>Kurtosis:</th>      <td> 3.131</td> <th>  Cond. No.          </th> <td>    4.96</td>\n",
       "</tr>\n",
       "</table><br/><br/>Notes:<br/>[1] Standard Errors assume that the covariance matrix of the errors is correctly specified."
      ],
      "text/plain": [
       "<class 'statsmodels.iolib.summary.Summary'>\n",
       "\"\"\"\n",
       "                            OLS Regression Results                            \n",
       "==============================================================================\n",
       "Dep. Variable:                  HiTec   R-squared:                       0.593\n",
       "Model:                            OLS   Adj. R-squared:                  0.590\n",
       "Method:                 Least Squares   F-statistic:                     190.6\n",
       "Date:                Wed, 26 Jul 2023   Prob (F-statistic):           2.56e-27\n",
       "Time:                        11:25:10   Log-Likelihood:                -330.78\n",
       "No. Observations:                 133   AIC:                             665.6\n",
       "Df Residuals:                     131   BIC:                             671.3\n",
       "Df Model:                           1                                         \n",
       "Covariance Type:            nonrobust                                         \n",
       "==============================================================================\n",
       "                 coef    std err          t      P>|t|      [0.025      0.975]\n",
       "------------------------------------------------------------------------------\n",
       "const          1.0294      0.257      4.010      0.000       0.522       1.537\n",
       "PC1           -0.7219      0.052    -13.805      0.000      -0.825      -0.618\n",
       "==============================================================================\n",
       "Omnibus:                        1.185   Durbin-Watson:                   2.019\n",
       "Prob(Omnibus):                  0.553   Jarque-Bera (JB):                0.858\n",
       "Skew:                          -0.186   Prob(JB):                        0.651\n",
       "Kurtosis:                       3.131   Cond. No.                         4.96\n",
       "==============================================================================\n",
       "\n",
       "Notes:\n",
       "[1] Standard Errors assume that the covariance matrix of the errors is correctly specified.\n",
       "\"\"\""
      ]
     },
     "execution_count": 27,
     "metadata": {},
     "output_type": "execute_result"
    }
   ],
   "source": [
    "# Remember this?\n",
    "res.summary()"
   ]
  },
  {
   "cell_type": "code",
   "execution_count": 28,
   "metadata": {},
   "outputs": [
    {
     "data": {
      "text/html": [
       "<img src=\"../slide_images/MLE_CAPM3.png\" width=\"600\" height=\"500\"/>"
      ],
      "text/plain": [
       "<IPython.core.display.Image object>"
      ]
     },
     "execution_count": 28,
     "metadata": {},
     "output_type": "execute_result"
    }
   ],
   "source": [
    "# CAPM Example Followed\n",
    "Image(url=\"../slide_images/MLE_CAPM3.png\", width=600, height=500)"
   ]
  },
  {
   "cell_type": "code",
   "execution_count": 29,
   "metadata": {},
   "outputs": [
    {
     "data": {
      "text/html": [
       "<img src=\"../slide_images/MLE_Slides2.png\" width=\"600\" height=\"500\"/>"
      ],
      "text/plain": [
       "<IPython.core.display.Image object>"
      ]
     },
     "execution_count": 29,
     "metadata": {},
     "output_type": "execute_result"
    }
   ],
   "source": [
    "Image(url=\"../slide_images/MLE_Slides2.png\", width=600, height=500)"
   ]
  },
  {
   "cell_type": "markdown",
   "metadata": {},
   "source": [
    "### A Word on Testing "
   ]
  },
  {
   "cell_type": "code",
   "execution_count": 30,
   "metadata": {},
   "outputs": [
    {
     "data": {
      "text/html": [
       "<img src=\"../slide_images/Hyp1.png\" width=\"600\" height=\"500\"/>"
      ],
      "text/plain": [
       "<IPython.core.display.Image object>"
      ]
     },
     "execution_count": 30,
     "metadata": {},
     "output_type": "execute_result"
    }
   ],
   "source": [
    "Image(url=\"../slide_images/Hyp1.png\", width=600, height=500)"
   ]
  },
  {
   "cell_type": "code",
   "execution_count": 31,
   "metadata": {},
   "outputs": [
    {
     "data": {
      "text/html": [
       "<img src=\"../slide_images/Hyp2.png\" width=\"600\" height=\"500\"/>"
      ],
      "text/plain": [
       "<IPython.core.display.Image object>"
      ]
     },
     "execution_count": 31,
     "metadata": {},
     "output_type": "execute_result"
    }
   ],
   "source": [
    "Image(url=\"../slide_images/Hyp2.png\", width=600, height=500)"
   ]
  }
 ],
 "metadata": {
  "kernelspec": {
   "display_name": "Python 3.10.7 64-bit",
   "language": "python",
   "name": "python3"
  },
  "language_info": {
   "codemirror_mode": {
    "name": "ipython",
    "version": 3
   },
   "file_extension": ".py",
   "mimetype": "text/x-python",
   "name": "python",
   "nbconvert_exporter": "python",
   "pygments_lexer": "ipython3",
   "version": "3.9.12"
  },
  "orig_nbformat": 4,
  "vscode": {
   "interpreter": {
    "hash": "aee8b7b246df8f9039afb4144a1f6fd8d2ca17a180786b69acc140d282b71a49"
   }
  }
 },
 "nbformat": 4,
 "nbformat_minor": 2
}
