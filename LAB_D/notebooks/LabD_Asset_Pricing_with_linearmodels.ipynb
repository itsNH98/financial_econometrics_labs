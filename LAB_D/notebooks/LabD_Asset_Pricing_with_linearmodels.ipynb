{
 "cells": [
  {
   "cell_type": "markdown",
   "metadata": {
    "collapsed": false,
    "id": "pmTwuq0blN9A"
   },
   "source": [
    "# Asset Pricing with linearmodels\n",
    "\n",
    "By Simon Van Norden & Nicolas Harvie\n",
    "***"
   ]
  },
  {
   "cell_type": "markdown",
   "metadata": {},
   "source": [
    "The [linearmodels](https://bashtage.github.io/linearmodels/) module has nice features for [Linear Factor Models for Asset Pricing](https://bashtage.github.io/linearmodels/asset-pricing/index.html) that are closely related to what we saw in the slides. We'll briefly show some of the features and how to use them.\n",
    "\n",
    "## Models\n",
    "\n",
    "The basic asset pricing model in ``linearmodels`` has the form\n",
    "\n",
    "\\begin{equation}\n",
    "    r_{it} = \\lambda_0 + \\beta_i' \\cdot \\lambda_t + e_{it}\n",
    "\\end{equation}\n",
    "\n",
    "where \n",
    "- $\\lambda_t$ is our $K \\times 1$ vector of factors\n",
    "- $\\beta_i$ is our $K \\times 1$ vector of factor loadings for asset $i$\n",
    "- $r_{it}$ is our rate of return on asset $i$\n",
    "- $\\lambda_0$ is the risk-free rate \n",
    "\n",
    "and we estimate the model using data on $P$ assets over $T$ periods. \n",
    "\n",
    "## Inference\n",
    "\n",
    "Inference is closely related to the F-tests that we mentioned in the slides. However, \n",
    "- All standard errors allow for errors correlated across assets.\n",
    "- Tests are only valid in large samples, so our test statistics will have $\\chi^2$ distributions instead of $F$.\n",
    "- ``cov_type=robust`` produces heteroscedasticity-robust standard errors. \n",
    "- ``cov_type=kernel`` produces heteroscedasticity-and-autocorrelation-robust (HAC) standard errors. \n",
    "\n",
    "## Estimation\n",
    "\n",
    "The simplest case is the ``TradedFactorModel``, which corresponds to the factor models (like Fama and French) that we saw in the slides. \n",
    "- Estimation is by SUR (Seemingly Unrelated Regressions), which corresponds to a fixed-effects panel data model where errors may be clustered across assets but not time.\n",
    "- This gives valid estimates **when we have factors measured in rates of return** (called _Traded Factors_.)\n",
    "\n",
    "``LinearFactorModel`` may be used whether factors are traded or not (for example, when some factors are macroeconomic surprises.) \n",
    "- It first estimates _factor loadings_ using time series regressions on the factors, then uses these to estimate risk premia for the factors. \n",
    "\n",
    "``LinearFactorModelGMM`` is more sophisticated version of ``LinearFactorModel``, solving simultaneously for both the factor loading and the risk premium on each factor. \n",
    "\n",
    "## Examples\n",
    "\n",
    "Let's look at some simple examples. (See [here](https://bashtage.github.io/linearmodels/doc/asset-pricing/examples/examples.html) for more.)\n",
    "\n",
    "First, we can load some data from Ken French's data library. \n",
    "- includes 4 factor returns, the excess market, the size factor, the value factor and the momentum factor."
   ]
  },
  {
   "cell_type": "code",
   "execution_count": 11,
   "metadata": {
    "colab": {
     "base_uri": "https://localhost:8080/"
    },
    "collapsed": false,
    "executionInfo": {
     "elapsed": 1588,
     "status": "ok",
     "timestamp": 1637585200185,
     "user": {
      "displayName": "Simon van Norden",
      "photoUrl": "https://lh3.googleusercontent.com/a-/AOh14Gj5CpfjPKgjuS8h8doBVA6BEeQ_vidBLew6ePLz9vo=s64",
      "userId": "10388925176664816353"
     },
     "user_tz": 300
    },
    "id": "8tHBRjKSlN9J",
    "outputId": "34edcd0f-5b15-4c8a-df76-90b7cef7f063"
   },
   "outputs": [
    {
     "name": "stdout",
     "output_type": "stream",
     "text": [
      "\n",
      "Data from Ken French's data library\n",
      "http://mba.tuck.dartmouth.edu/pages/faculty/ken.french/data_library.html\n",
      "\n",
      "dates    Year and Month of Return\n",
      "MktRF    Market Factor\n",
      "SMB      Size Factor\n",
      "HML      Value Factor\n",
      "Mom      Momentum Factor\n",
      "RF       Risk-free rate\n",
      "NoDur    Industry: Non-durables\n",
      "Durbl    Industry: Durables\n",
      "Manuf    Industry: Manufacturing\n",
      "Enrgy    Industry: Energy\n",
      "Chems    Industry: Chemicals\n",
      "BusEq    Industry: Business Equipment\n",
      "Telcm    Industry: Telecoms\n",
      "Utils    Industry: Utilities\n",
      "Shops    Industry: Retail\n",
      "Hlth     Industry: Health care\n",
      "Money    Industry: Finance\n",
      "Other    Industry: Other\n",
      "S1V1     Small firms, low value\n",
      "S1V3     Small firms, medium value\n",
      "S1V5     Small firms, high value\n",
      "S3V1     Size 3, value 1\n",
      "S3V3     Size 3, value 3\n",
      "S3V5     Size 3, value 5\n",
      "S5V1     Large firms, Low value\n",
      "S5V3     Large firms, medium value\n",
      "S5V5     Large Firms, High value\n",
      "S1M1     Small firms, losers\n",
      "S1M3     Small firms, neutral\n",
      "S1M5     Small firms, winners\n",
      "S3M1     Size 3, momentum 1\n",
      "S3M3     Size 3, momentum 3\n",
      "S3M5     Size 3, momentum 5\n",
      "S5M1     Large firms, losers\n",
      "S5M3     Large firms, neutral\n",
      "S5M5     Large firms, winners\n",
      "\n"
     ]
    }
   ],
   "source": [
    "from linearmodels.datasets import french\n",
    "data = french.load()\n",
    "print(french.DESCR)\n",
    "# Transform the returns to excess returns by substracting the risk-free rate.\n",
    "data.iloc[:,6:] = data.iloc[:,6:].values - data[['RF']].values"
   ]
  },
  {
   "cell_type": "markdown",
   "metadata": {
    "collapsed": false,
    "id": "RGksUEbglN9L"
   },
   "source": [
    "### CAPM\n",
    "\n",
    "We'll estimate the CAPM model and test $\\alpha_i = 0$ for all $i$ using some size and value sorted portfolios.\n",
    "- Since the only factor is the market factor (which is traded), we can use ``TradedFactorModel``\n",
    "- The $J$ statistic tests $H_0 : \\alpha_i = 0 \\; \\forall \\, i$"
   ]
  },
  {
   "cell_type": "code",
   "execution_count": 12,
   "metadata": {
    "colab": {
     "base_uri": "https://localhost:8080/"
    },
    "collapsed": false,
    "executionInfo": {
     "elapsed": 333,
     "status": "ok",
     "timestamp": 1637585210785,
     "user": {
      "displayName": "Simon van Norden",
      "photoUrl": "https://lh3.googleusercontent.com/a-/AOh14Gj5CpfjPKgjuS8h8doBVA6BEeQ_vidBLew6ePLz9vo=s64",
      "userId": "10388925176664816353"
     },
     "user_tz": 300
    },
    "id": "wXPydpkSlN9M",
    "outputId": "1b9cd6b7-599c-4891-e5ef-177182516dd4"
   },
   "outputs": [
    {
     "name": "stdout",
     "output_type": "stream",
     "text": [
      "                      TradedFactorModel Estimation Summary                      \n",
      "================================================================================\n",
      "No. Test Portfolios:                  9   R-squared:                      0.6910\n",
      "No. Factors:                          1   J-statistic:                    70.034\n",
      "No. Observations:                   819   P-value                         0.0000\n",
      "Date:                  Wed, Jul 26 2023   Distribution:                  chi2(9)\n",
      "Time:                          11:24:33                                         \n",
      "Cov. Estimator:                  robust                                         \n",
      "                                                                                \n",
      "                            Risk Premia Estimates                             \n",
      "==============================================================================\n",
      "            Parameter  Std. Err.     T-stat    P-value    Lower CI    Upper CI\n",
      "------------------------------------------------------------------------------\n",
      "MktRF          0.0065     0.0015     4.3553     0.0000      0.0035      0.0094\n",
      "==============================================================================\n",
      "\n",
      "Covariance estimator:\n",
      "HeteroskedasticCovariance\n",
      "See full_summary for complete results\n"
     ]
    }
   ],
   "source": [
    "from linearmodels.asset_pricing import TradedFactorModel\n",
    "# define our portfolio of assets\n",
    "portfolios = data[['S1V1','S1V3','S1V5','S3V1','S3V3','S3V5','S5V1','S5V3','S5V5']]\n",
    "# define our factors\n",
    "factors = data[['MktRF']]\n",
    "# define the model\n",
    "mod = TradedFactorModel(portfolios, factors)\n",
    "# fit the model\n",
    "res = mod.fit()\n",
    "# see what we got:\n",
    "print(res)"
   ]
  },
  {
   "cell_type": "markdown",
   "metadata": {
    "collapsed": false,
    "id": "hNa-L_UzlN9N"
   },
   "source": [
    "The $J$-statistic strongly rejects the null hypothesis of correct specification.\n",
    "- The risk premium on the market is strongly significant, so the market factor is priced in the market. \n",
    "- Note that the $R^2$ is 69%.\n",
    "\n",
    "### Fama-French\n",
    "\n",
    "What if we add the SMB, HML and Mom factors?"
   ]
  },
  {
   "cell_type": "code",
   "execution_count": 13,
   "metadata": {
    "colab": {
     "base_uri": "https://localhost:8080/"
    },
    "collapsed": false,
    "executionInfo": {
     "elapsed": 361,
     "status": "ok",
     "timestamp": 1637585221754,
     "user": {
      "displayName": "Simon van Norden",
      "photoUrl": "https://lh3.googleusercontent.com/a-/AOh14Gj5CpfjPKgjuS8h8doBVA6BEeQ_vidBLew6ePLz9vo=s64",
      "userId": "10388925176664816353"
     },
     "user_tz": 300
    },
    "id": "oAE5NZP4lN9P",
    "outputId": "3bf4675b-16c3-464b-f494-3222104c1601"
   },
   "outputs": [
    {
     "name": "stdout",
     "output_type": "stream",
     "text": [
      "                      TradedFactorModel Estimation Summary                      \n",
      "================================================================================\n",
      "No. Test Portfolios:                  9   R-squared:                      0.8982\n",
      "No. Factors:                          4   J-statistic:                    45.907\n",
      "No. Observations:                   819   P-value                         0.0000\n",
      "Date:                  Wed, Jul 26 2023   Distribution:                  chi2(9)\n",
      "Time:                          11:24:33                                         \n",
      "Cov. Estimator:                  robust                                         \n",
      "                                                                                \n",
      "                            Risk Premia Estimates                             \n",
      "==============================================================================\n",
      "            Parameter  Std. Err.     T-stat    P-value    Lower CI    Upper CI\n",
      "------------------------------------------------------------------------------\n",
      "MktRF          0.0065     0.0015     4.3553     0.0000      0.0035      0.0094\n",
      "SMB            0.0016     0.0010     1.6021     0.1091     -0.0004      0.0035\n",
      "HML            0.0035     0.0009     3.6993     0.0002      0.0016      0.0053\n",
      "Mom            0.0070     0.0014     5.1260     0.0000      0.0043      0.0096\n",
      "==============================================================================\n",
      "\n",
      "Covariance estimator:\n",
      "HeteroskedasticCovariance\n",
      "See full_summary for complete results\n"
     ]
    }
   ],
   "source": [
    "factors = data[['MktRF', 'SMB', 'HML', 'Mom']]\n",
    "mod = TradedFactorModel(portfolios, factors)\n",
    "res = mod.fit()\n",
    "print(res)"
   ]
  },
  {
   "cell_type": "markdown",
   "metadata": {
    "collapsed": false,
    "id": "EabpwBMFlN9Q"
   },
   "source": [
    "$J$-statistic still strongly rejects $H_0$.\n",
    "- All factors except SMB are strongly significant.\n",
    "- $R^2$ improves to 90%.\n",
    "\n",
    "We can see the estimated factor loadings using ``.betas``"
   ]
  },
  {
   "cell_type": "code",
   "execution_count": 14,
   "metadata": {
    "colab": {
     "base_uri": "https://localhost:8080/",
     "height": 456
    },
    "collapsed": false,
    "executionInfo": {
     "elapsed": 790,
     "status": "ok",
     "timestamp": 1637585230812,
     "user": {
      "displayName": "Simon van Norden",
      "photoUrl": "https://lh3.googleusercontent.com/a-/AOh14Gj5CpfjPKgjuS8h8doBVA6BEeQ_vidBLew6ePLz9vo=s64",
      "userId": "10388925176664816353"
     },
     "user_tz": 300
    },
    "id": "u6Ld7Ra2lN9R",
    "outputId": "e09c2252-0e24-4789-90fb-40d5a9726949"
   },
   "outputs": [
    {
     "name": "stdout",
     "output_type": "stream",
     "text": [
      "         MktRF       SMB       HML       Mom\n",
      "S1V1  1.100652  1.397569 -0.210653 -0.083748\n",
      "S1V3  0.923878  1.088152  0.301926 -0.034765\n",
      "S1V5  0.958739  1.084297  0.687914 -0.022665\n",
      "S3V1  1.086251  0.752940 -0.429578 -0.047178\n",
      "S3V3  0.971153  0.434311  0.364511 -0.049400\n",
      "S3V5  1.068300  0.579893  0.814632 -0.035379\n",
      "S5V1  0.987418 -0.239590 -0.357193 -0.000742\n",
      "S5V3  0.935764 -0.248164  0.295728  0.006839\n",
      "S5V5  1.103239 -0.085108  0.812956 -0.080834\n"
     ]
    },
    {
     "data": {
      "text/plain": [
       "<AxesSubplot: >"
      ]
     },
     "execution_count": 14,
     "metadata": {},
     "output_type": "execute_result"
    },
    {
     "data": {
      "image/png": "[encoded data removed]",
      "text/plain": [
       "<Figure size 432x288 with 2 Axes>"
      ]
     },
     "metadata": {
      "needs_background": "light"
     },
     "output_type": "display_data"
    }
   ],
   "source": [
    "print(res.betas)\n",
    "\n",
    "import seaborn as sns\n",
    "%matplotlib inline\n",
    "sns.heatmap(res.betas)"
   ]
  },
  {
   "cell_type": "markdown",
   "metadata": {
    "collapsed": false,
    "id": "W1lWB10clN9S"
   },
   "source": [
    "We can use either of the two other estimation methods to estimate the model if we want. \n",
    "\n",
    "How much difference does it make?"
   ]
  },
  {
   "cell_type": "code",
   "execution_count": 15,
   "metadata": {
    "colab": {
     "base_uri": "https://localhost:8080/"
    },
    "collapsed": false,
    "executionInfo": {
     "elapsed": 321,
     "status": "ok",
     "timestamp": 1637585245372,
     "user": {
      "displayName": "Simon van Norden",
      "photoUrl": "https://lh3.googleusercontent.com/a-/AOh14Gj5CpfjPKgjuS8h8doBVA6BEeQ_vidBLew6ePLz9vo=s64",
      "userId": "10388925176664816353"
     },
     "user_tz": 300
    },
    "id": "N5uWlQ_4lN9T",
    "outputId": "76e97b8c-1b98-43dc-d80b-99fc6f9bcbbd"
   },
   "outputs": [
    {
     "name": "stdout",
     "output_type": "stream",
     "text": [
      "                      LinearFactorModel Estimation Summary                      \n",
      "================================================================================\n",
      "No. Test Portfolios:                  9   R-squared:                      0.8982\n",
      "No. Factors:                          4   J-statistic:                    16.463\n",
      "No. Observations:                   819   P-value                         0.0056\n",
      "Date:                  Wed, Jul 26 2023   Distribution:                  chi2(5)\n",
      "Time:                          11:24:33                                         \n",
      "Cov. Estimator:                  robust                                         \n",
      "                                                                                \n",
      "                            Risk Premia Estimates                             \n",
      "==============================================================================\n",
      "            Parameter  Std. Err.     T-stat    P-value    Lower CI    Upper CI\n",
      "------------------------------------------------------------------------------\n",
      "MktRF          0.0079     0.0017     4.6833     0.0000      0.0046      0.0112\n",
      "SMB            0.0013     0.0016     0.8397     0.4011     -0.0018      0.0045\n",
      "HML            0.0046     0.0011     4.2566     0.0000      0.0025      0.0067\n",
      "Mom            0.0539     0.0261     2.0633     0.0391      0.0027      0.1051\n",
      "==============================================================================\n",
      "\n",
      "Covariance estimator:\n",
      "HeteroskedasticCovariance\n",
      "See full_summary for complete results\n"
     ]
    }
   ],
   "source": [
    "from linearmodels.asset_pricing import LinearFactorModel\n",
    "\n",
    "mod2 = LinearFactorModel(portfolios, factors)\n",
    "res2 = mod2.fit()\n",
    "print(res2)"
   ]
  },
  {
   "cell_type": "markdown",
   "metadata": {
    "collapsed": false,
    "id": "wjIUoIjqlN9U"
   },
   "source": [
    "The $J$-statistic still rejects, but at a higher p-value <br>(The test is not as powerful due to the extra estimation error.)\n",
    "- SMB and Mom not as significant as before (again, less power.)\n",
    "- Identical $R^2$.\n",
    "\n",
    "\n",
    "What about GMM?\n",
    "- Note that GMM estimation is solved iteratively."
   ]
  },
  {
   "cell_type": "code",
   "execution_count": 16,
   "metadata": {
    "colab": {
     "base_uri": "https://localhost:8080/"
    },
    "collapsed": false,
    "executionInfo": {
     "elapsed": 11548,
     "status": "ok",
     "timestamp": 1637585265403,
     "user": {
      "displayName": "Simon van Norden",
      "photoUrl": "https://lh3.googleusercontent.com/a-/AOh14Gj5CpfjPKgjuS8h8doBVA6BEeQ_vidBLew6ePLz9vo=s64",
      "userId": "10388925176664816353"
     },
     "user_tz": 300
    },
    "id": "x06UfXGmlN9V",
    "outputId": "3bebab0c-e673-467b-e0a5-e549a8a1094a"
   },
   "outputs": [
    {
     "name": "stdout",
     "output_type": "stream",
     "text": [
      "Iteration: 0, Objective: 22.08367067567724\n",
      "Iteration: 10, Objective: 9.662322633083143\n",
      "Iteration: 20, Objective: 7.145680524596338\n",
      "Iteration: 30, Objective: 6.863204071462165\n",
      "Iteration: 40, Objective: 4.636248193272177\n",
      "Iteration: 50, Objective: 2.432023607228515\n",
      "Warning: Desired error not necessarily achieved due to precision loss.\n",
      "         Current function value: 2.431318\n",
      "         Iterations: 60\n",
      "         Function evaluations: 4871\n",
      "         Gradient evaluations: 108\n",
      "Iteration: 0, Objective: 2.458944056649321\n",
      "Iteration: 10, Objective: 2.4507910789508136\n",
      "Iteration: 20, Objective: 2.445481892641406\n",
      "Iteration: 30, Objective: 2.4452447034561144\n",
      "Iteration: 40, Objective: 2.441695789583556\n",
      "Warning: Desired error not necessarily achieved due to precision loss.\n",
      "         Current function value: 2.437830\n",
      "         Iterations: 48\n",
      "         Function evaluations: 4512\n",
      "         Gradient evaluations: 100\n",
      "                    LinearFactorModelGMM Estimation Summary                     \n",
      "================================================================================\n",
      "No. Test Portfolios:                  9   R-squared:                      0.8981\n",
      "No. Factors:                          4   J-statistic:                    2.4378\n",
      "No. Observations:                   819   P-value                         0.7858\n",
      "Date:                  Wed, Jul 26 2023   Distribution:                  chi2(5)\n",
      "Time:                          11:24:36                                         \n",
      "Cov. Estimator:                  robust                                         \n",
      "                                                                                \n",
      "                            Risk Premia Estimates                             \n",
      "==============================================================================\n",
      "            Parameter  Std. Err.     T-stat    P-value    Lower CI    Upper CI\n",
      "------------------------------------------------------------------------------\n",
      "MktRF          0.0083     0.0017     4.9940     0.0000      0.0050      0.0116\n",
      "SMB            0.0031     0.0016     1.9436     0.0519    -2.6e-05      0.0062\n",
      "HML            0.0046     0.0012     3.9518     0.0001      0.0023      0.0069\n",
      "Mom            0.0769     0.0317     2.4261     0.0153      0.0148      0.1391\n",
      "==============================================================================\n",
      "\n",
      "Covariance estimator:\n",
      "HeteroskedasticCovariance\n",
      "See full_summary for complete results\n"
     ]
    }
   ],
   "source": [
    "from linearmodels.asset_pricing import LinearFactorModelGMM\n",
    "\n",
    "mod3 = LinearFactorModelGMM(portfolios, factors)\n",
    "res3 = mod3.fit()\n",
    "print(res3)"
   ]
  },
  {
   "cell_type": "markdown",
   "metadata": {
    "collapsed": false,
    "id": "zJXRNxzrlN9W"
   },
   "source": [
    "Now we no longer reject the model!\n",
    "- $R^2$ _almost_ unchanged.\n",
    "- All factors significantly priced?"
   ]
  }
 ],
 "metadata": {
  "colab": {
   "collapsed_sections": [],
   "name": "Asset_Pricing_with_linearmodels.ipynb",
   "provenance": [
    {
     "file_id": "1XWRGzm2SXUN5eAuWVJoCcEl06zHz9K9A",
     "timestamp": 1637592737910
    }
   ]
  },
  "kernelspec": {
   "display_name": "Python 3.10.7 64-bit",
   "language": "python",
   "name": "python3"
  },
  "language_info": {
   "codemirror_mode": {
    "name": "ipython",
    "version": 3
   },
   "file_extension": ".py",
   "mimetype": "text/x-python",
   "name": "python",
   "nbconvert_exporter": "python",
   "pygments_lexer": "ipython3",
   "version": "3.9.12"
  },
  "vscode": {
   "interpreter": {
    "hash": "aee8b7b246df8f9039afb4144a1f6fd8d2ca17a180786b69acc140d282b71a49"
   }
  }
 },
 "nbformat": 4,
 "nbformat_minor": 4
}
