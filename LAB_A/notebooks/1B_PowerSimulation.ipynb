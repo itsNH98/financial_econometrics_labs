{
 "cells": [
  {
   "cell_type": "markdown",
   "metadata": {},
   "source": [
    "## Calculating Power\n",
    "By Simon Van Norden and Nicolas Harvie"
   ]
  },
  {
   "cell_type": "markdown",
   "metadata": {},
   "source": [
    "***\n",
    "This example shows how to \n",
    "- use a parametric simulation to study the power of the KS test, based on the example that we discussed in Lecture.\n",
    "- use the ``kstest()`` function in ``scipy.stats`` to calculate the Kolmogorov-Smirnov (KS) test statistic and its p-value. \n",
    "- use the ``norm()`` function in ``scipy.stats`` to calculate the normal cdf."
   ]
  },
  {
   "cell_type": "markdown",
   "metadata": {
    "collapsed": false
   },
   "source": [
    "**Write a function that** \n",
    "- accepts 2 parameters (*N,N_chi*) \n",
    "- draws *N - N_chi* i.i.d. random values from a N(0,1) distribution\n",
    "- draws another *N_chi* i.i.d. random values from a $\\chi^2(1)$ distribution\n",
    "- uses these *N* draws to perform a KS test of the $H_0$ that they are distributed $N(0,1)$.\n",
    "- returns the KS statistic and its exact 1-tailed p-value"
   ]
  },
  {
   "cell_type": "code",
   "execution_count": 1,
   "metadata": {},
   "outputs": [],
   "source": [
    "# import image module\n",
    "from IPython.display import Image"
   ]
  },
  {
   "cell_type": "code",
   "execution_count": 2,
   "metadata": {},
   "outputs": [
    {
     "data": {
      "text/html": [
       "<img src=\"../slide_images/KS_1.png\" width=\"700\" height=\"500\"/>"
      ],
      "text/plain": [
       "<IPython.core.display.Image object>"
      ]
     },
     "execution_count": 2,
     "metadata": {},
     "output_type": "execute_result"
    }
   ],
   "source": [
    "Image(url=\"../slide_images/KS_1.png\", width=700, height=500)"
   ]
  },
  {
   "cell_type": "code",
   "execution_count": 3,
   "metadata": {},
   "outputs": [
    {
     "data": {
      "text/html": [
       "<img src=\"../slide_images/KS_2.png\" width=\"700\" height=\"500\"/>"
      ],
      "text/plain": [
       "<IPython.core.display.Image object>"
      ]
     },
     "execution_count": 3,
     "metadata": {},
     "output_type": "execute_result"
    }
   ],
   "source": [
    "Image(url=\"../slide_images/KS_2.png\", width=700, height=500)"
   ]
  },
  {
   "cell_type": "code",
   "execution_count": 4,
   "metadata": {
    "collapsed": false
   },
   "outputs": [],
   "source": [
    "from numpy.random import normal\n",
    "from scipy.stats import kstest\n",
    "from scipy.stats import norm\n",
    "\n",
    "def func_Q1a(N, N_chi):\n",
    "    # Possibility of seeding the generator\n",
    "    x = normal(size = N)        # Draw N values\n",
    "    x[0:N_chi] = x[0:N_chi]**2  # Square the first N_chi values\n",
    "    return kstest(x, norm.cdf, mode = 'exact')"
   ]
  },
  {
   "cell_type": "markdown",
   "metadata": {},
   "source": [
    "[Normal Distribution vs Khi2](https://www.gaussianwaves.com/2012/09/chi-squared-distribution/)"
   ]
  },
  {
   "cell_type": "markdown",
   "metadata": {
    "collapsed": false
   },
   "source": [
    "**Write another function that**\n",
    "- accepts parameters (*N,N_chi,N_reps*)\n",
    "- calls your function from (a) with *N* and *N_chi*\n",
    "- repeats this *N_reps* times\n",
    "- returns the fraction of times that KS test rejects $H_0$ at the 5% level."
   ]
  },
  {
   "cell_type": "code",
   "execution_count": 5,
   "metadata": {},
   "outputs": [
    {
     "data": {
      "text/html": [
       "<img src=\"../slide_images/POWER.png\" width=\"1000\" height=\"500\"/>"
      ],
      "text/plain": [
       "<IPython.core.display.Image object>"
      ]
     },
     "execution_count": 5,
     "metadata": {},
     "output_type": "execute_result"
    }
   ],
   "source": [
    "Image(url=\"../slide_images/POWER.png\", width=1000, height=500)"
   ]
  },
  {
   "cell_type": "code",
   "execution_count": 6,
   "metadata": {
    "collapsed": false
   },
   "outputs": [
    {
     "name": "stdout",
     "output_type": "stream",
     "text": [
      "The power of the KS test is 0.056.\n"
     ]
    }
   ],
   "source": [
    "def func_Q1b(N, N_chi, N_reps):\n",
    "    N_rej = 0           # Set the counter to 0\n",
    "    for j in range(N_reps):\n",
    "        ks_stat, ks_pval = func_Q1a(N, N_chi)\n",
    "        if ks_pval < 0.05:  # p-value < 5%, so we increment the counter\n",
    "            N_rej += 1\n",
    "    return N_rej / N_reps\n",
    "\n",
    "print(f'The power of the KS test is {func_Q1b(200,3,1000)}.')"
   ]
  },
  {
   "cell_type": "markdown",
   "metadata": {
    "collapsed": false
   },
   "source": [
    "**c)** Using your code from (b), *N_reps=500* and *N=200*, make a graph showing how the power of the test increases from 5% to 50% as we increase *N_chi*."
   ]
  },
  {
   "cell_type": "code",
   "execution_count": 7,
   "metadata": {
    "collapsed": false,
    "scrolled": true
   },
   "outputs": [
    {
     "data": {
      "text/plain": [
       "Text(0.5, 0, 'Number of non-normal draws')"
      ]
     },
     "execution_count": 7,
     "metadata": {},
     "output_type": "execute_result"
    },
    {
     "data": {
      "image/png": "[encoded data removed]",
      "text/plain": [
       "<Figure size 432x288 with 1 Axes>"
      ]
     },
     "metadata": {
      "needs_background": "light"
     },
     "output_type": "display_data"
    }
   ],
   "source": [
    "import matplotlib.pyplot as plt\n",
    "import numpy as np\n",
    "\n",
    "n = 40  # range of values to try\n",
    "KS_power = np.empty(n)\n",
    "# Why not seed the generator?\n",
    "np.random.seed(19590721)\n",
    "for j in range(n):\n",
    "    KS_power[j] = func_Q1b(200, j, 500)\n",
    "\n",
    "plt.plot(KS_power)\n",
    "plt.title('Power of the KS test')\n",
    "plt.ylabel('Power')\n",
    "plt.xlabel('Number of non-normal draws')"
   ]
  }
 ],
 "metadata": {
  "kernelspec": {
   "display_name": "Python 3.10.7 64-bit",
   "language": "python",
   "name": "python3"
  },
  "language_info": {
   "codemirror_mode": {
    "name": "ipython",
    "version": 3
   },
   "file_extension": ".py",
   "mimetype": "text/x-python",
   "name": "python",
   "nbconvert_exporter": "python",
   "pygments_lexer": "ipython3",
   "version": "3.9.12"
  },
  "vscode": {
   "interpreter": {
    "hash": "aee8b7b246df8f9039afb4144a1f6fd8d2ca17a180786b69acc140d282b71a49"
   }
  }
 },
 "nbformat": 4,
 "nbformat_minor": 4
}
