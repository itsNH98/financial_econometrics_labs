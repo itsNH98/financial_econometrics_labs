{
 "cells": [
  {
   "cell_type": "markdown",
   "metadata": {
    "collapsed": false
   },
   "source": [
    "# Lab A Introduction, Random Numbers, Power, Simulation and Machine Learning  \n",
    "By Simon Van Norden and Nicolas Harvie"
   ]
  },
  {
   "cell_type": "markdown",
   "metadata": {},
   "source": [
    "***\n",
    "## Introduction to the Class\n",
    "CoCalc Basics:\n",
    "- CoCalc user interface\n",
    "- Launch a project\n",
    "- Time travel\n",
    "- Submit assignments\n",
    "- Assistance\n",
    "\n",
    "VSCode support:\n",
    "- Select the \"New\" tab\n",
    "- Choose the button that says \"VS Code Server\" and launch your\n",
    "\n",
    "My tips for the course\n",
    "***"
   ]
  },
  {
   "cell_type": "markdown",
   "metadata": {},
   "source": [
    "# Random Numbers in Python\n",
    "\n",
    "## Outline\n",
    "\n",
    "1. Introduction\n",
    "2. Random Number Generators\n",
    "3. Shuffling and Bootstrapping\n",
    "4. Distributions\n",
    "5. Useful Tricks"
   ]
  },
  {
   "cell_type": "markdown",
   "metadata": {},
   "source": [
    "## Introduction\n",
    "\n",
    "The most confusing things about random number functions in Python are\n",
    "- there are so many of them.\n",
    "- there is so much duplication.\n",
    "\n",
    "That's because many different modules (like numpy, pandas, scipy, etc) have their own random number functions, in addition to the ones in basic Python. Confusingly, the names and syntax of similar commands may differ across modules. \n",
    "\n",
    "I'll introduce you to some of the most common functions, with a focus on commands for simulation experiments in NumPy and Pandas, and on special random distributions in Python and SciPy. \n",
    "\n",
    "Before I do that however, here's a quick review of how computers generate random numbers."
   ]
  },
  {
   "cell_type": "markdown",
   "metadata": {},
   "source": [
    "***\n",
    "\n",
    "## Random Number Generators\n",
    "\n",
    "Computers use special algorithms called random number generators (RNGs) to generate \"random\" numbers. Picky people call them \"pseudo-random\" numbers, because computers don't behave randomly; they follow precise repeatable algorithms. In the case of RNGs, however, we can't predict their output on the basis of their past outputs, so we can safely treat their output as random. \n",
    "\n",
    "The key to their behaviour, however, is a secret value called the ``seed``, which uniquely determines the next number that they generate. Each time they generate a random value, they update their seed as well. By default, most RNGs will use the current system time as a seed the first time that they are called, so that running a program several times will give different (seemingly random) results.\n",
    "\n",
    "They also allow users to choose their own seed. This allows users to replicate results using the same sets of \"random\" numbers.\n",
    "\n",
    "Both Python and NumPy provide modules called ``random`` that provide the backbone of most of the functions that we discuss below. Each has its own RNG with its own seed. In Python, ``random()`` returns a random number $x \\: | \\: 0 \\le x \\lt 1.$ The equivalent command in NumPy is ``rand()``.\n",
    "\n",
    "Here's some simple examples using the RNGs in Python and in Numpy. (We'll see a Pandas example a bit later on.)"
   ]
  },
  {
   "cell_type": "code",
   "execution_count": 19,
   "metadata": {},
   "outputs": [
    {
     "name": "stdout",
     "output_type": "stream",
     "text": [
      "0.29936960918079325 0.8442092016016632 0.7123730119064993\n",
      "0.4318592703288652 0.3116345283033898 0.9682368229868882\n",
      "0.5331786119714597 0.6621567798924323 0.17289371739475723\n"
     ]
    }
   ],
   "source": [
    "# First, work with standard Python\n",
    "from random import seed\n",
    "from random import random\n",
    "\n",
    "My_seed_for_the_generator = 20210311\n",
    "\n",
    "# Generate 3 random numbers between 0 and 1\n",
    "print(random(), random(), random())\n",
    "\n",
    "seed(My_seed_for_the_generator)\n",
    "# Three more random numbers between 0 and 1\n",
    "# but these are determined by the seed value I choose\n",
    "print(random(), random(), random())\n",
    "\n",
    "seed(19980311)\n",
    "# I've reset the seed, so I should see the last 3 numbers repeated.\n",
    "print(random(), random(), random())"
   ]
  },
  {
   "cell_type": "code",
   "execution_count": 20,
   "metadata": {},
   "outputs": [
    {
     "name": "stdout",
     "output_type": "stream",
     "text": [
      "0.1428208034808467 0.9502697139752301 0.49171070977884657\n",
      "0.6323377654893042 0.9797543302082113 0.37033429442894084\n"
     ]
    }
   ],
   "source": [
    "# Next, work with the NumPy functions\n",
    "import numpy.random as npr\n",
    "\n",
    "# Seeding the Python RNG\n",
    "seed(My_seed_for_the_generator)\n",
    "print(npr.rand(),npr.rand(),npr.rand())\n",
    "# Seeding the Python RNG again\n",
    "seed(My_seed_for_the_generator)\n",
    "print(npr.rand(),npr.rand(),npr.rand())\n",
    "# I get different results, because npr.rand() is using the NumPy RNG."
   ]
  },
  {
   "cell_type": "code",
   "execution_count": 21,
   "metadata": {},
   "outputs": [
    {
     "name": "stdout",
     "output_type": "stream",
     "text": [
      "0.051244674694756465 0.2572085870185694 0.5835244513324871\n",
      "0.6121701756176187 0.16906975434563642 0.4360590193711702\n"
     ]
    }
   ],
   "source": [
    "# I can get repeatable results by seeding the NumPy RNG\n",
    "npr.seed(My_seed_for_the_generator)\n",
    "print(npr.rand(),npr.rand(),npr.rand())\n",
    "npr.seed(111)\n",
    "print(npr.rand(),npr.rand(),npr.rand())"
   ]
  },
  {
   "cell_type": "code",
   "execution_count": 22,
   "metadata": {},
   "outputs": [
    {
     "name": "stdout",
     "output_type": "stream",
     "text": [
      "[0.76926247 0.2953253  0.14916296 0.02247832 0.42022449 0.23868214\n",
      " 0.33765619 0.99071246 0.23772645 0.08119266]\n"
     ]
    }
   ],
   "source": [
    "# Array of random numbers \n",
    "print( npr.rand(10) )"
   ]
  },
  {
   "cell_type": "code",
   "execution_count": 23,
   "metadata": {},
   "outputs": [
    {
     "name": "stdout",
     "output_type": "stream",
     "text": [
      "3 0 2 2 4 1\n",
      "[0 2 2 0 1 1]\n"
     ]
    }
   ],
   "source": [
    "from random import randint\n",
    "\n",
    "print(randint(0,4),randint(0,4),randint(0,4),randint(0,4),randint(0,4),randint(0,4))\n",
    "print(npr.randint(0,4,6))"
   ]
  },
  {
   "cell_type": "markdown",
   "metadata": {},
   "source": [
    "### New Method\n",
    "\n",
    "**NumPy** 1.17 introduced _BitGenerators_ and _Generators_ as the new ways to handle the same tasks.\n",
    "\n",
    "- The old method still works \\(for now\\) but the new one is intended to improve control \\(especially when running multiple threads in parallel.\\)\n",
    "\n",
    "The new method begins by <u>initializing</u>a _BitGenerator_, then using a _Generator_ to <u>transform</u>that BitGenerator into random values ​​from a desired distribution.\n",
    "\n",
    "There are several ways to do this, but here is the easiest. \\(See [NumPy.random](https://numpy.org/doc/stable/reference/random/generator.html)\n",
    "for more examples and details.\\)"
   ]
  },
  {
   "cell_type": "code",
   "execution_count": 24,
   "metadata": {},
   "outputs": [
    {
     "name": "stdout",
     "output_type": "stream",
     "text": [
      "Old random numbers: \n",
      "[-1.02796733 -0.09098625  0.492003    0.4246722   1.28304882  0.31598645\n",
      " -0.4080822  -0.06794759 -0.95242666 -0.1106774 ]\n",
      "New random numbers: \n",
      "[-2.10140579  1.79757271 -0.28645135 -0.08952693 -1.26324789 -1.10236862\n",
      " -1.70368915  0.04501836 -1.47522953  0.49370114]\n"
     ]
    }
   ],
   "source": [
    "# instead of this (legacy version)\n",
    "from numpy import random\n",
    "oldvals = random.standard_normal(10)\n",
    "print(f\"Old random numbers: \\n{oldvals}\")\n",
    "\n",
    "# Do this (new version)\n",
    "from numpy.random import default_rng\n",
    "rng = default_rng()  # rng is now our BitGenerator\n",
    "newvals = rng.standard_normal(10)   # standard_normal() is our Generator\n",
    "print(f\"New random numbers: \\n{newvals}\")"
   ]
  },
  {
   "cell_type": "code",
   "execution_count": 25,
   "metadata": {},
   "outputs": [
    {
     "name": "stdout",
     "output_type": "stream",
     "text": [
      "Generator(PCG64)\n"
     ]
    }
   ],
   "source": [
    "print(rng)"
   ]
  },
  {
   "cell_type": "markdown",
   "metadata": {},
   "source": [
    "This tells us what type of BitGenerator we are using.\n",
    "\n",
    "- This allows advanced users to select alternative algorithms to generate pseudo\\-random numbers.\n",
    "- This might be important if you were doing crypto, for example, but you won't have to worry about it for this course. The `default_rng` will be just fine....\n",
    "\n",
    "Suppose we now want to seed our RNG so that our results are reproducible. How do we do this using a _BitGenerator_?"
   ]
  },
  {
   "cell_type": "code",
   "execution_count": 26,
   "metadata": {},
   "outputs": [
    {
     "name": "stdout",
     "output_type": "stream",
     "text": [
      "New random numbers: \n",
      "[ 0.30471708 -1.03998411  0.7504512   0.94056472 -1.95103519]\n",
      "New random numbers: \n",
      "[-1.30217951  0.1278404  -0.31624259 -0.01680116 -0.85304393]\n",
      "New random numbers: \n",
      "[-0.03703493  1.18719744 -0.15631175 -0.69874877  0.7609645 ]\n"
     ]
    }
   ],
   "source": [
    "import numpy as np\n",
    "# We seed our BitGenerator\n",
    "rng = np.random.default_rng(seed=42)\n",
    "# Now we can draw some numbers by applying the Generator to the BitGenerator\n",
    "newvals = rng.standard_normal(5)\n",
    "print(f\"New random numbers: \\n{newvals}\")\n",
    "newvals = rng.standard_normal(5)\n",
    "print(f\"New random numbers: \\n{newvals}\")\n",
    "# Now we can reseed the BitGenerator\n",
    "rng = np.random.default_rng(seed=19980311)\n",
    "newvals = rng.standard_normal(5)\n",
    "print(f\"New random numbers: \\n{newvals}\")"
   ]
  },
  {
   "cell_type": "code",
   "execution_count": 27,
   "metadata": {},
   "outputs": [
    {
     "name": "stdout",
     "output_type": "stream",
     "text": [
      "His random numbers: \n",
      "[ 0.30471708 -1.03998411  0.7504512   0.94056472 -1.95103519]\n",
      "Her random numbers: \n",
      "[ 1.35074732  0.34309058 -1.16299016 -0.18708582 -0.3394646 ]\n",
      "New random numbers: \n",
      "[-1.10978358 -0.78537895  1.93033735 -0.06741104 -0.89120049]\n",
      "New random numbers: \n",
      "[ 0.30471708 -1.03998411  0.7504512   0.94056472 -1.95103519]\n"
     ]
    }
   ],
   "source": [
    "# We can seed multiple BitGenerators\n",
    "hisrng = np.random.default_rng(seed=42)\n",
    "herrng = np.random.default_rng(seed=24)\n",
    "\n",
    "# Now we can draw some numbers by applying the Generator to the BitGenerator\n",
    "hisvals = hisrng.standard_normal(5)\n",
    "hervals = herrng.standard_normal(5)\n",
    "print(f\"His random numbers: \\n{hisvals}\")\n",
    "print(f\"Her random numbers: \\n{hervals}\")\n",
    "\n",
    "# We can reseed one BitGenerator without affecting the other\n",
    "newvals = rng.standard_normal(5)\n",
    "print(f\"New random numbers: \\n{newvals}\")\n",
    "# Now we can reseed the BitGenerator\n",
    "rng = np.random.default_rng(seed=42)\n",
    "newvals = rng.standard_normal(5)\n",
    "print(f\"New random numbers: \\n{newvals}\")"
   ]
  },
  {
   "cell_type": "markdown",
   "metadata": {},
   "source": [
    "***\n",
    "\n",
    "## Shuffling and Bootstrapping\n",
    "\n",
    "We often want to draw __entries__ from sequences or arrays or series or dataframes. <br>\n",
    "Python and NumPy have _functions_ for that, and Pandas has _methods_.\n",
    "\n",
    "#### Draw ``MyNum`` elements (with replacement) from some variable ``MyVar``.\n",
    "- **Python:** ``choices(MyVar,k=MyNum)``<br>\n",
    "- **NumPy:**  ``choice(MyVar,size=MyNum)``<br>\n",
    "- **Pandas:** ``MyVar.sample(n=MyNum,replace=True)``\n",
    "\n",
    "#### Draw ``MyNum`` elements (without replacement) from some variable ``MyVar``.\n",
    "- **Python:** ``sample(MyVar,k=MyNum)``<br>\n",
    "- **NumPy:**  ``choice(MyVar,size=MyNum,replace=False)``<br>\n",
    "- **Pandas:** ``MyVar.sample(n=MyNum)``\n",
    "\n",
    "#### \"Shuffle\": randomly reorder the elements in ``MyVar``.\n",
    "- **Python:** ``shuffle(MyVar)``<br>\n",
    "- **NumPy:**  ``shuffle(MyVar)``<br>\n",
    "- **Pandas:** ``MyVar.sample(frac=1).reset_index(drop=True)``\n",
    "\n",
    "All three functions shuffle the series _in-place_.<br>\n",
    "NumPy also has ``permutation(MyVar)``, which returns a shuffled _copy_ of ``MyVar``."
   ]
  },
  {
   "cell_type": "markdown",
   "metadata": {},
   "source": [
    "Note that all of these commands have additional options (e.g. for weighted sampling.) \n",
    "- NumPy's ``choice()`` only works with vectors (1-D arrays, not 2-D.) <br>\n",
    "  (A newer syntax using ``random.Generator`` can be used for 2-D arrays.) <br>\n",
    "  ``shuffle`` works with higher dimensional arrays, but only shuffles axis 0 (i.e. rows.) \n",
    "- The Pandas functions allow the user to specify the axis.<br>\n",
    "  By default, rows are sampled, but columns may be sampled instead.\n"
   ]
  },
  {
   "cell_type": "markdown",
   "metadata": {},
   "source": [
    "### Examples !"
   ]
  },
  {
   "cell_type": "code",
   "execution_count": 28,
   "metadata": {},
   "outputs": [
    {
     "name": "stdout",
     "output_type": "stream",
     "text": [
      "The NumPy array contains \n",
      "[[9.09678224e-04 8.48252816e-01 4.28905309e-01]\n",
      " [1.18630181e-01 7.00499703e-02 6.34002815e-01]\n",
      " [8.30516270e-01 3.78093782e-01 9.66343091e-01]\n",
      " [4.96996147e-01 5.15582686e-02 3.92745535e-01]\n",
      " [9.02364532e-01 8.04527617e-01 7.68698620e-01]\n",
      " [5.97651739e-01 4.30511805e-01 4.85653631e-01]\n",
      " [6.71777372e-01 6.37578665e-01 4.91498642e-01]\n",
      " [1.25089165e-01 9.98365708e-01 6.92263457e-02]\n",
      " [5.24001415e-01 2.07647847e-01 5.38478967e-01]\n",
      " [7.63488458e-01 2.83294068e-01 8.94343098e-01]].\n"
     ]
    }
   ],
   "source": [
    "import numpy.random as npr\n",
    "import pandas as pd\n",
    "\n",
    "NumColumns = 3\n",
    "NumObs = 10\n",
    "\n",
    "My_seed_for_the_generator = 19980311\n",
    "npr.seed(My_seed_for_the_generator)\n",
    "\n",
    "np_junk = npr.rand(NumObs,NumColumns)\n",
    "print(f'The NumPy array contains \\n{np_junk}.')"
   ]
  },
  {
   "cell_type": "code",
   "execution_count": 29,
   "metadata": {},
   "outputs": [
    {
     "name": "stdout",
     "output_type": "stream",
     "text": [
      "The Pandas dataframe contains \n",
      "          0         1         2\n",
      "0  0.000910  0.848253  0.428905\n",
      "1  0.118630  0.070050  0.634003\n",
      "2  0.830516  0.378094  0.966343\n",
      "3  0.496996  0.051558  0.392746\n",
      "4  0.902365  0.804528  0.768699\n",
      "5  0.597652  0.430512  0.485654\n",
      "6  0.671777  0.637579  0.491499\n",
      "7  0.125089  0.998366  0.069226\n",
      "8  0.524001  0.207648  0.538479\n",
      "9  0.763488  0.283294  0.894343\n"
     ]
    }
   ],
   "source": [
    "pd_junk = pd.DataFrame(np_junk)\n",
    "print(f'The Pandas dataframe contains \\n{pd_junk}')"
   ]
  },
  {
   "cell_type": "code",
   "execution_count": 30,
   "metadata": {},
   "outputs": [
    {
     "name": "stdout",
     "output_type": "stream",
     "text": [
      "NumPy:  Drawing 5 observations without replacement from the first column gives \n",
      " [0.90236453 0.67177737 0.76348846 0.49699615 0.11863018].\n",
      "Pandas: Drawing 5 observations without replacement from the first column gives \n",
      " 7    0.125089\n",
      "3    0.496996\n",
      "2    0.830516\n",
      "1    0.118630\n",
      "9    0.763488\n",
      "Name: 0, dtype: float64.\n"
     ]
    }
   ],
   "source": [
    "MyNum = 5\n",
    "\n",
    "# Draw without replacement\n",
    "print(f'NumPy:  Drawing {MyNum} observations without replacement from the first column gives \\n {npr.choice(np_junk[:,0],size=MyNum,replace=False)}.')\n",
    "print(f'Pandas: Drawing {MyNum} observations without replacement from the first column gives \\n {pd_junk.sample(n=MyNum)[0]}.')"
   ]
  },
  {
   "cell_type": "code",
   "execution_count": 31,
   "metadata": {},
   "outputs": [
    {
     "name": "stdout",
     "output_type": "stream",
     "text": [
      "NumPy:  Drawing 5 observations with replacement from the first column replacement gives \n",
      " [0.90236453 0.52400142 0.00090968 0.76348846 0.59765174].\n",
      "Pandas: Drawing 5 observations with replacement from the first column replacement gives \n",
      " 6    0.671777\n",
      "4    0.902365\n",
      "2    0.830516\n",
      "3    0.496996\n",
      "3    0.496996\n",
      "Name: 0, dtype: float64.\n"
     ]
    }
   ],
   "source": [
    "# Draw with replacement\n",
    "print(f'NumPy:  Drawing {MyNum} observations with replacement from the first column replacement gives \\n {npr.choice(np_junk[:,0],size=MyNum)}.')\n",
    "print(f'Pandas: Drawing {MyNum} observations with replacement from the first column replacement gives \\n {pd_junk.sample(n=MyNum,replace=True)[0]}.')"
   ]
  },
  {
   "cell_type": "code",
   "execution_count": 32,
   "metadata": {},
   "outputs": [
    {
     "name": "stdout",
     "output_type": "stream",
     "text": [
      "          0         1         2\n",
      "4  0.902365  0.804528  0.768699\n",
      "9  0.763488  0.283294  0.894343\n",
      "0  0.000910  0.848253  0.428905\n",
      "3  0.496996  0.051558  0.392746\n",
      "1  0.118630  0.070050  0.634003\n",
      "          1         0         0         2         1\n",
      "0  0.848253  0.000910  0.000910  0.428905  0.848253\n",
      "1  0.070050  0.118630  0.118630  0.634003  0.070050\n",
      "2  0.378094  0.830516  0.830516  0.966343  0.378094\n",
      "3  0.051558  0.496996  0.496996  0.392746  0.051558\n",
      "4  0.804528  0.902365  0.902365  0.768699  0.804528\n",
      "5  0.430512  0.597652  0.597652  0.485654  0.430512\n",
      "6  0.637579  0.671777  0.671777  0.491499  0.637579\n",
      "7  0.998366  0.125089  0.125089  0.069226  0.998366\n",
      "8  0.207648  0.524001  0.524001  0.538479  0.207648\n",
      "9  0.283294  0.763488  0.763488  0.894343  0.283294\n"
     ]
    }
   ],
   "source": [
    "# Pandas allows us to sample rows or columns.\n",
    "print( pd_junk.sample(n=MyNum) )\n",
    "print( pd_junk.sample(n=MyNum,axis=1,replace=True) )"
   ]
  },
  {
   "cell_type": "code",
   "execution_count": 33,
   "metadata": {},
   "outputs": [
    {
     "name": "stdout",
     "output_type": "stream",
     "text": [
      "          0         1         2\n",
      "7  0.125089  0.998366  0.069226\n",
      "0  0.000910  0.848253  0.428905\n",
      "6  0.671777  0.637579  0.491499\n",
      "2  0.830516  0.378094  0.966343\n",
      "5  0.597652  0.430512  0.485654\n",
      "          0         1         2\n",
      "7  0.125089  0.998366  0.069226\n",
      "0  0.000910  0.848253  0.428905\n",
      "6  0.671777  0.637579  0.491499\n",
      "2  0.830516  0.378094  0.966343\n",
      "5  0.597652  0.430512  0.485654\n"
     ]
    }
   ],
   "source": [
    "# Pandas will also allow us to seed its RNG\n",
    "print( pd_junk.sample(n=MyNum, random_state = My_seed_for_the_generator) )\n",
    "print( pd_junk.sample(n=MyNum, random_state = My_seed_for_the_generator) )"
   ]
  },
  {
   "cell_type": "code",
   "execution_count": 34,
   "metadata": {},
   "outputs": [
    {
     "name": "stdout",
     "output_type": "stream",
     "text": [
      "Here's the original array: \n",
      " [[9.09678224e-04 8.48252816e-01 4.28905309e-01]\n",
      " [1.18630181e-01 7.00499703e-02 6.34002815e-01]\n",
      " [8.30516270e-01 3.78093782e-01 9.66343091e-01]\n",
      " [4.96996147e-01 5.15582686e-02 3.92745535e-01]\n",
      " [9.02364532e-01 8.04527617e-01 7.68698620e-01]\n",
      " [5.97651739e-01 4.30511805e-01 4.85653631e-01]\n",
      " [6.71777372e-01 6.37578665e-01 4.91498642e-01]\n",
      " [1.25089165e-01 9.98365708e-01 6.92263457e-02]\n",
      " [5.24001415e-01 2.07647847e-01 5.38478967e-01]\n",
      " [7.63488458e-01 2.83294068e-01 8.94343098e-01]]\n",
      "Here's the permuted array: \n",
      " [[1.25089165e-01 9.98365708e-01 6.92263457e-02]\n",
      " [9.09678224e-04 8.48252816e-01 4.28905309e-01]\n",
      " [6.71777372e-01 6.37578665e-01 4.91498642e-01]\n",
      " [8.30516270e-01 3.78093782e-01 9.66343091e-01]\n",
      " [5.97651739e-01 4.30511805e-01 4.85653631e-01]\n",
      " [1.18630181e-01 7.00499703e-02 6.34002815e-01]\n",
      " [7.63488458e-01 2.83294068e-01 8.94343098e-01]\n",
      " [5.24001415e-01 2.07647847e-01 5.38478967e-01]\n",
      " [9.02364532e-01 8.04527617e-01 7.68698620e-01]\n",
      " [4.96996147e-01 5.15582686e-02 3.92745535e-01]]\n",
      "Here's the shuffled array: \n",
      " [[1.25089165e-01 9.98365708e-01 6.92263457e-02]\n",
      " [9.09678224e-04 8.48252816e-01 4.28905309e-01]\n",
      " [6.71777372e-01 6.37578665e-01 4.91498642e-01]\n",
      " [8.30516270e-01 3.78093782e-01 9.66343091e-01]\n",
      " [5.97651739e-01 4.30511805e-01 4.85653631e-01]\n",
      " [1.18630181e-01 7.00499703e-02 6.34002815e-01]\n",
      " [7.63488458e-01 2.83294068e-01 8.94343098e-01]\n",
      " [5.24001415e-01 2.07647847e-01 5.38478967e-01]\n",
      " [9.02364532e-01 8.04527617e-01 7.68698620e-01]\n",
      " [4.96996147e-01 5.15582686e-02 3.92745535e-01]]\n",
      "Here's the shuffled array: \n",
      " [[5.24001415e-01 2.07647847e-01 5.38478967e-01]\n",
      " [1.25089165e-01 9.98365708e-01 6.92263457e-02]\n",
      " [7.63488458e-01 2.83294068e-01 8.94343098e-01]\n",
      " [6.71777372e-01 6.37578665e-01 4.91498642e-01]\n",
      " [1.18630181e-01 7.00499703e-02 6.34002815e-01]\n",
      " [9.09678224e-04 8.48252816e-01 4.28905309e-01]\n",
      " [4.96996147e-01 5.15582686e-02 3.92745535e-01]\n",
      " [9.02364532e-01 8.04527617e-01 7.68698620e-01]\n",
      " [5.97651739e-01 4.30511805e-01 4.85653631e-01]\n",
      " [8.30516270e-01 3.78093782e-01 9.66343091e-01]]\n"
     ]
    }
   ],
   "source": [
    "# Permutations\n",
    "print(f\"Here's the original array: \\n {np_junk}\")\n",
    "npr.seed(My_seed_for_the_generator)\n",
    "print(f\"Here's the permuted array: \\n {npr.permutation(np_junk)}\")\n",
    "npr.seed(My_seed_for_the_generator)\n",
    "npr.shuffle(np_junk)\n",
    "print(f\"Here's the shuffled array: \\n {np_junk}\")\n",
    "# Note that the shuffled and permuted arrays are the same!\n",
    "npr.seed(My_seed_for_the_generator)\n",
    "npr.shuffle(np_junk)\n",
    "print(f\"Here's the shuffled array: \\n {np_junk}\")"
   ]
  },
  {
   "cell_type": "markdown",
   "metadata": {},
   "source": [
    "***\n",
    "\n",
    "## Distributions\n",
    "\n",
    "As we saw above, ``random()`` and ``rand()`` generate random values $\\sim U(0,1)$. Often we want random numbers draw from different distributions. \n",
    "\n",
    "**Python's** ``random`` module includes such functions for a number of such distributions, such as \n",
    "\n",
    "- ``gauss``(mu,sigma)\n",
    "- ``lognormvariate``(mu,sigma)\n",
    "- ``uniform``(a,b)\n",
    "- ``betavariate``(alpha,beta)\n",
    "- ``gammavariate``(alpha, beta)\n",
    "\n",
    "**NumPy** also has a variety of similar functions which share the parameter ``size``, a tuple (or similar) giving the shape of the output.\n",
    "\n",
    "- ``normal``(loc=mu, scale=sigma, size)\n",
    "- ``beta``(alpha, beta, size)\n",
    "- ``binomial``(n,p,size)\n",
    "- ``chisquare``(df,size)\n",
    "- ``gamma``(shape,scale,size)\n"
   ]
  },
  {
   "cell_type": "markdown",
   "metadata": {},
   "source": [
    "---\n",
    "## Useful Tricks\n",
    "\n",
    "We can use the features that we've seen so far with some theory to do some handy tricks!\n",
    "\n",
    "### Drawing from an Unconventional Distribution\n",
    "\n",
    "What if we want to draw random values from a distribution that isn't included in Python or NumPy?<br>\n",
    "We can draw random values from *any* distribution for which we know the inverse cdf $F^{-1}(x)$. <br>\n",
    "To do so, \n",
    "1. program $F^{-1}(x)$; let's assume we called it ``Finv()``.\n",
    "2. Simply call ``Finv(rand())`` or ``Finv(random())``.\n",
    "\n",
    "This interprets random values between 0 and 1 as _probabilities_, and then maps them back into distribution that we want. <br>\n",
    "(This is deeply related to PIT tests, which we'll talk about later in the course.) "
   ]
  },
  {
   "cell_type": "markdown",
   "metadata": {},
   "source": [
    "### Drawing a Dummy Variable\n",
    "\n",
    "One of the simplest tasks is drawing a **dummy** (a.k.a. indicator, binary, Boolean, dichotomous, 0/1, etc.) variable.\n",
    "\n",
    "Let ``MyDummy`` be the variable we're creating and let ``pDummy`` be the probability that it is equal to 1."
   ]
  },
  {
   "cell_type": "code",
   "execution_count": 35,
   "metadata": {},
   "outputs": [
    {
     "name": "stdout",
     "output_type": "stream",
     "text": [
      "Here's my dummy variable: \n",
      " [False  True  True  True  True  True  True False  True  True] \n",
      " [0 1 1 1 1 1 1 0 1 1]\n"
     ]
    }
   ],
   "source": [
    "# Dummies\n",
    "pDummy = 0.7\n",
    "MyDummy = npr.rand(10) < pDummy\n",
    "print(f\"Here's my dummy variable: \\n {MyDummy} \\n {MyDummy*1}\")"
   ]
  },
  {
   "cell_type": "code",
   "execution_count": 36,
   "metadata": {},
   "outputs": [
    {
     "name": "stdout",
     "output_type": "stream",
     "text": [
      "Dummies with variable probabilities: \n",
      " [[0.         0.31023503]\n",
      " [1.         0.97051137]\n",
      " [1.         0.5898573 ]\n",
      " [0.         0.89889785]\n",
      " [0.         0.04516918]\n",
      " [0.         0.46858702]\n",
      " [0.         0.00141648]\n",
      " [1.         0.84176875]\n",
      " [1.         0.44545046]\n",
      " [1.         0.26846803]\n",
      " [1.         0.4878885 ]\n",
      " [0.         0.16778074]\n",
      " [0.         0.17727023]\n",
      " [1.         0.6941738 ]\n",
      " [0.         0.53782587]\n",
      " [0.         0.27708016]\n",
      " [0.         0.09292731]\n",
      " [1.         0.48324252]\n",
      " [0.         0.21335464]\n",
      " [0.         0.0559934 ]]\n"
     ]
    }
   ],
   "source": [
    "Dsize = 20\n",
    "pDummy = npr.rand(Dsize)\n",
    "MyDummy = npr.rand(Dsize) < pDummy\n",
    "\n",
    "from numpy import vstack\n",
    "\n",
    "print(f\"Dummies with variable probabilities: \\n {vstack((MyDummy,pDummy)).T}\" )"
   ]
  },
  {
   "cell_type": "markdown",
   "metadata": {},
   "source": [
    "### Correlated Variables\n",
    "\n",
    "All of the methods shown above take *independent* draws from a distribution. <br>\n",
    "But suppose we want to draw several random variables that are correlated with one another?\n",
    "\n",
    "If we want to draw from a **normal** distribution, we can use Numpy's ``multivariate_normal()`` function.\n",
    "\n",
    "*Syntax:* **random.multivariate_normal(mean, cov, size=None)**<br>\n",
    "where\n",
    "- **mean** is a 1-D array-like of means (dimension ``N``)\n",
    "- **cov** is a 2-D array-like of covariance matrix (``N``x``N`` )<br>Should be positive-semi-definite and symmetric.\n",
    "- **size** is an int (or tuple of ints) giving the number of draws of each series.\n",
    "\n",
    "Alternatively, we can use the fact that, if we have a vector of variables $Y$ where $V(Y) = I$<br>\n",
    "then $V(Y \\cdot D) = D^\\prime \\cdot I \\cdot D = D^\\prime \\cdot D$. \n",
    "That means that we can \n",
    "- generate $N$ identical i.i.d. variables ``Yiid`` (so $V(Yiid) = I$).\n",
    "- choose $D$ such that $D^\\prime \\cdot D = \\Sigma$ where $\\Sigma$ is the VCV matrix we want.<br>\n",
    "\t(A Choleski decomposition of $\\Sigma$ is one way to get $D$.)\n",
    "- Create ``Ycorr = Yiid @ D`` to get our correlated variables.\n",
    "\n",
    "Note that the second method works for *any* distribution."
   ]
  },
  {
   "cell_type": "markdown",
   "metadata": {},
   "source": []
  }
 ],
 "metadata": {
  "kernelspec": {
   "display_name": "Python 3.10.7 64-bit",
   "language": "python",
   "name": "python3"
  },
  "language_info": {
   "codemirror_mode": {
    "name": "ipython",
    "version": 3
   },
   "file_extension": ".py",
   "mimetype": "text/x-python",
   "name": "python",
   "nbconvert_exporter": "python",
   "pygments_lexer": "ipython3",
   "version": "3.9.12"
  },
  "vscode": {
   "interpreter": {
    "hash": "aee8b7b246df8f9039afb4144a1f6fd8d2ca17a180786b69acc140d282b71a49"
   }
  }
 },
 "nbformat": 4,
 "nbformat_minor": 4
}
